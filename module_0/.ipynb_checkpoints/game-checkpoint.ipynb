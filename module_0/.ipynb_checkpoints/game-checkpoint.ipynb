{
 "cells": [
  {
   "cell_type": "code",
   "execution_count": 61,
   "metadata": {},
   "outputs": [
    {
     "name": "stdout",
     "output_type": "stream",
     "text": [
      "Ваш алгоритм угадал число 82 за 6 попыток.\n"
     ]
    }
   ],
   "source": [
    "import numpy as np\n",
    "\n",
    "\n",
    "count = 0                          # счетчик попыток\n",
    "number = np.random.randint(1,101)  # загадали число\n",
    "left = 1                           # первое слогаемое\n",
    "right = 100                        # второе слогаемое\n",
    "\n",
    "\n",
    "while True:                        # бесконечный цикл\n",
    "    predict = (left+right)//2      # предполагаемое число\n",
    "    count += 1                     # плюсуем попытку\n",
    "    if number == predict:\n",
    "        break                      # выход из цикла, если угадали\n",
    "    elif number > predict:\n",
    "        left = predict + 1         # изменяет первое слогаемое\n",
    "    elif number < predict:\n",
    "        right = predict - 1        # изменяет второе слогаемое\n",
    "\n",
    "\n",
    "print (f\"Ваш алгоритм угадал число {number} за {count} попыток.\")"
   ]
  }
 ],
 "metadata": {
  "kernelspec": {
   "display_name": "Python 3",
   "language": "python",
   "name": "python3"
  },
  "language_info": {
   "codemirror_mode": {
    "name": "ipython",
    "version": 3
   },
   "file_extension": ".py",
   "mimetype": "text/x-python",
   "name": "python",
   "nbconvert_exporter": "python",
   "pygments_lexer": "ipython3",
   "version": "3.8.3"
  }
 },
 "nbformat": 4,
 "nbformat_minor": 4
}
