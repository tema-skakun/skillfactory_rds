{
 "cells": [
  {
   "cell_type": "code",
   "execution_count": 58,
   "metadata": {},
   "outputs": [
    {
     "name": "stdout",
     "output_type": "stream",
     "text": [
      "The algorithm guessed the number 32 in 7 attempts.\n"
     ]
    }
   ],
   "source": [
    "import numpy as np\n",
    "number = np.random.randint(1,101)   # Made randome number\n",
    "\n",
    "\n",
    "def game_core(number):\n",
    "    '''The function accepts specified number, returns number of attempts.\n",
    "       The first number is chosen equal to half of the largest,\n",
    "       then it reduce or increase the expected number twice, depending\n",
    "       on whether it is greater or less than the desired one.'''\n",
    "    count = 0\n",
    "    augend_1 = 0         # First augend\n",
    "    augend_2 = 100       # Second augend\n",
    "    \n",
    "    while True:          # Infinite loop\n",
    "        \n",
    "        predict = (augend_1+augend_2) // 2\n",
    "        # Estimated number\n",
    "        count += 1       # Plus attempt\n",
    "        \n",
    "        if number == predict:\n",
    "            break        # Exit loop if number is guessed\n",
    "        elif number > predict:\n",
    "            augend_1 = predict + 1  # Changes first augend\n",
    "        elif number < predict:\n",
    "            augend_2 = predict - 1  # Changes second augend\n",
    "\n",
    "    return(count)\n",
    "\n",
    "\n",
    "print (f\"The algorithm guessed the number {number} in {game_core(number)} attempts.\")"
   ]
  },
  {
   "cell_type": "code",
   "execution_count": 59,
   "metadata": {},
   "outputs": [
    {
     "name": "stdout",
     "output_type": "stream",
     "text": [
      "The algorithm guesses the number in an average of 5 attempts.\n"
     ]
    }
   ],
   "source": [
    "def score_game(game_core):\n",
    "    '''Run the algorithm 1000 times to\n",
    "    find out how fast it guesses the number'''\n",
    "    count_ls = []\n",
    "    np.random.seed(1)\n",
    "    # Fixing RANDOM SEED so that the experiment is reproducible\n",
    "    random_array = np.random.randint(1,101, size=(1000))\n",
    "    \n",
    "    for number in random_array:\n",
    "        count_ls.append(game_core(number))\n",
    "    score = int(np.mean(count_ls))\n",
    "    # Calculate the average value of the array elements\n",
    "        \n",
    "    return(score)\n",
    "\n",
    "\n",
    "print(f\"The algorithm guesses the number in an average of {score_game(game_core)} attempts.\")"
   ]
  }
 ],
 "metadata": {
  "kernelspec": {
   "display_name": "Python 3",
   "language": "python",
   "name": "python3"
  },
  "language_info": {
   "codemirror_mode": {
    "name": "ipython",
    "version": 3
   },
   "file_extension": ".py",
   "mimetype": "text/x-python",
   "name": "python",
   "nbconvert_exporter": "python",
   "pygments_lexer": "ipython3",
   "version": "3.8.3"
  }
 },
 "nbformat": 4,
 "nbformat_minor": 4
}
