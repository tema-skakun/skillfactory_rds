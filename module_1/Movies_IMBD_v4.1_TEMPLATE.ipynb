{
 "cells": [
  {
   "cell_type": "code",
   "execution_count": 1,
   "metadata": {
    "_cell_guid": "b1076dfc-b9ad-4769-8c92-a6c4dae69d19",
    "_uuid": "8f2839f25d086af736a60e9eeb907d3b93b6e0e5",
    "colab": {},
    "colab_type": "code",
    "id": "U2D2gTdJVp90"
   },
   "outputs": [],
   "source": [
    "import numpy as np\n",
    "import pandas as pd\n",
    "import seaborn as sns\n",
    "import matplotlib.pyplot as plt\n",
    "from collections import Counter"
   ]
  },
  {
   "cell_type": "code",
   "execution_count": 2,
   "metadata": {
    "_cell_guid": "79c7e3d0-c299-4dcb-8224-4455121ee9b0",
    "_uuid": "d629ff2d2480ee46fbb7e2d37f6b5fab8052498a",
    "colab": {},
    "colab_type": "code",
    "id": "oyGfxL3eVp9-"
   },
   "outputs": [
    {
     "data": {
      "text/html": [
       "<div>\n",
       "<style scoped>\n",
       "    .dataframe tbody tr th:only-of-type {\n",
       "        vertical-align: middle;\n",
       "    }\n",
       "\n",
       "    .dataframe tbody tr th {\n",
       "        vertical-align: top;\n",
       "    }\n",
       "\n",
       "    .dataframe thead th {\n",
       "        text-align: right;\n",
       "    }\n",
       "</style>\n",
       "<table border=\"1\" class=\"dataframe\">\n",
       "  <thead>\n",
       "    <tr style=\"text-align: right;\">\n",
       "      <th></th>\n",
       "      <th>imdb_id</th>\n",
       "      <th>budget</th>\n",
       "      <th>revenue</th>\n",
       "      <th>original_title</th>\n",
       "      <th>cast</th>\n",
       "      <th>director</th>\n",
       "      <th>tagline</th>\n",
       "      <th>overview</th>\n",
       "      <th>runtime</th>\n",
       "      <th>genres</th>\n",
       "      <th>production_companies</th>\n",
       "      <th>release_date</th>\n",
       "      <th>vote_average</th>\n",
       "      <th>release_year</th>\n",
       "    </tr>\n",
       "  </thead>\n",
       "  <tbody>\n",
       "    <tr>\n",
       "      <th>790</th>\n",
       "      <td>tt1210166</td>\n",
       "      <td>50000000</td>\n",
       "      <td>110206216</td>\n",
       "      <td>Moneyball</td>\n",
       "      <td>Brad Pitt|Jonah Hill|Robin Wright|Philip Seymo...</td>\n",
       "      <td>Bennett Miller</td>\n",
       "      <td>What are you really worth?</td>\n",
       "      <td>The story of Oakland Athletics general manager...</td>\n",
       "      <td>133</td>\n",
       "      <td>Drama</td>\n",
       "      <td>Columbia Pictures|Scott Rudin Productions</td>\n",
       "      <td>9/22/2011</td>\n",
       "      <td>6.9</td>\n",
       "      <td>2011</td>\n",
       "    </tr>\n",
       "    <tr>\n",
       "      <th>505</th>\n",
       "      <td>tt0209163</td>\n",
       "      <td>98000000</td>\n",
       "      <td>433013274</td>\n",
       "      <td>The Mummy Returns</td>\n",
       "      <td>Brendan Fraser|Rachel Weisz|John Hannah|Arnold...</td>\n",
       "      <td>Stephen Sommers</td>\n",
       "      <td>The most powerful force on earth is about to b...</td>\n",
       "      <td>Rick and Evelyn O'Connell, along with their 8 ...</td>\n",
       "      <td>130</td>\n",
       "      <td>Action|Adventure|Drama|Fantasy|Horror</td>\n",
       "      <td>Universal Pictures|Alphaville Films|Imhotep Pr...</td>\n",
       "      <td>4/28/2001</td>\n",
       "      <td>5.8</td>\n",
       "      <td>2001</td>\n",
       "    </tr>\n",
       "    <tr>\n",
       "      <th>1869</th>\n",
       "      <td>tt0211181</td>\n",
       "      <td>85000000</td>\n",
       "      <td>183611771</td>\n",
       "      <td>102 Dalmatians</td>\n",
       "      <td>Glenn Close|Ioan Gruffudd|Alice Evans|Tim McIn...</td>\n",
       "      <td>Kevin Lima</td>\n",
       "      <td>Meet Two Unlikely Heroes With A Bone To Pick.</td>\n",
       "      <td>Get ready for a howling good time as an all ne...</td>\n",
       "      <td>100</td>\n",
       "      <td>Comedy|Family</td>\n",
       "      <td>Walt Disney Pictures|Cruella Productions</td>\n",
       "      <td>10/7/2000</td>\n",
       "      <td>5.0</td>\n",
       "      <td>2000</td>\n",
       "    </tr>\n",
       "    <tr>\n",
       "      <th>1823</th>\n",
       "      <td>tt0181984</td>\n",
       "      <td>26000000</td>\n",
       "      <td>28780255</td>\n",
       "      <td>Boiler Room</td>\n",
       "      <td>Giovanni Ribisi|Vin Diesel|Nia Long|Tom Everet...</td>\n",
       "      <td>Ben Younger</td>\n",
       "      <td>Welcome to the new American dream.</td>\n",
       "      <td>A college dropout gets a job as a broker for a...</td>\n",
       "      <td>118</td>\n",
       "      <td>Crime|Drama|Thriller</td>\n",
       "      <td>New Line Cinema</td>\n",
       "      <td>2/18/2000</td>\n",
       "      <td>6.5</td>\n",
       "      <td>2000</td>\n",
       "    </tr>\n",
       "    <tr>\n",
       "      <th>430</th>\n",
       "      <td>tt1155076</td>\n",
       "      <td>40000000</td>\n",
       "      <td>357852395</td>\n",
       "      <td>The Karate Kid</td>\n",
       "      <td>Jaden Smith|Jackie Chan|Taraji P. Henson|Yu Ro...</td>\n",
       "      <td>Harald Zwart</td>\n",
       "      <td>A Challenge He Never Imagined. A Teacher He Ne...</td>\n",
       "      <td>12-year-old Dre Parker could have been the mos...</td>\n",
       "      <td>140</td>\n",
       "      <td>Action|Adventure|Drama|Family</td>\n",
       "      <td>Columbia Pictures|Jerry Weintraub Productions|...</td>\n",
       "      <td>6/10/2010</td>\n",
       "      <td>6.1</td>\n",
       "      <td>2010</td>\n",
       "    </tr>\n",
       "  </tbody>\n",
       "</table>\n",
       "</div>"
      ],
      "text/plain": [
       "        imdb_id    budget    revenue     original_title  \\\n",
       "790   tt1210166  50000000  110206216          Moneyball   \n",
       "505   tt0209163  98000000  433013274  The Mummy Returns   \n",
       "1869  tt0211181  85000000  183611771     102 Dalmatians   \n",
       "1823  tt0181984  26000000   28780255        Boiler Room   \n",
       "430   tt1155076  40000000  357852395     The Karate Kid   \n",
       "\n",
       "                                                   cast         director  \\\n",
       "790   Brad Pitt|Jonah Hill|Robin Wright|Philip Seymo...   Bennett Miller   \n",
       "505   Brendan Fraser|Rachel Weisz|John Hannah|Arnold...  Stephen Sommers   \n",
       "1869  Glenn Close|Ioan Gruffudd|Alice Evans|Tim McIn...       Kevin Lima   \n",
       "1823  Giovanni Ribisi|Vin Diesel|Nia Long|Tom Everet...      Ben Younger   \n",
       "430   Jaden Smith|Jackie Chan|Taraji P. Henson|Yu Ro...     Harald Zwart   \n",
       "\n",
       "                                                tagline  \\\n",
       "790                          What are you really worth?   \n",
       "505   The most powerful force on earth is about to b...   \n",
       "1869      Meet Two Unlikely Heroes With A Bone To Pick.   \n",
       "1823                 Welcome to the new American dream.   \n",
       "430   A Challenge He Never Imagined. A Teacher He Ne...   \n",
       "\n",
       "                                               overview  runtime  \\\n",
       "790   The story of Oakland Athletics general manager...      133   \n",
       "505   Rick and Evelyn O'Connell, along with their 8 ...      130   \n",
       "1869  Get ready for a howling good time as an all ne...      100   \n",
       "1823  A college dropout gets a job as a broker for a...      118   \n",
       "430   12-year-old Dre Parker could have been the mos...      140   \n",
       "\n",
       "                                     genres  \\\n",
       "790                                   Drama   \n",
       "505   Action|Adventure|Drama|Fantasy|Horror   \n",
       "1869                          Comedy|Family   \n",
       "1823                   Crime|Drama|Thriller   \n",
       "430           Action|Adventure|Drama|Family   \n",
       "\n",
       "                                   production_companies release_date  \\\n",
       "790           Columbia Pictures|Scott Rudin Productions    9/22/2011   \n",
       "505   Universal Pictures|Alphaville Films|Imhotep Pr...    4/28/2001   \n",
       "1869           Walt Disney Pictures|Cruella Productions    10/7/2000   \n",
       "1823                                    New Line Cinema    2/18/2000   \n",
       "430   Columbia Pictures|Jerry Weintraub Productions|...    6/10/2010   \n",
       "\n",
       "      vote_average  release_year  \n",
       "790            6.9          2011  \n",
       "505            5.8          2001  \n",
       "1869           5.0          2000  \n",
       "1823           6.5          2000  \n",
       "430            6.1          2010  "
      ]
     },
     "execution_count": 2,
     "metadata": {},
     "output_type": "execute_result"
    }
   ],
   "source": [
    "data = pd.read_csv('movie_bd_v5.csv')\n",
    "data.sample(5)"
   ]
  },
  {
   "cell_type": "code",
   "execution_count": 3,
   "metadata": {
    "colab": {},
    "colab_type": "code",
    "id": "CoYUnagMVp-C",
    "scrolled": true
   },
   "outputs": [
    {
     "data": {
      "text/html": [
       "<div>\n",
       "<style scoped>\n",
       "    .dataframe tbody tr th:only-of-type {\n",
       "        vertical-align: middle;\n",
       "    }\n",
       "\n",
       "    .dataframe tbody tr th {\n",
       "        vertical-align: top;\n",
       "    }\n",
       "\n",
       "    .dataframe thead th {\n",
       "        text-align: right;\n",
       "    }\n",
       "</style>\n",
       "<table border=\"1\" class=\"dataframe\">\n",
       "  <thead>\n",
       "    <tr style=\"text-align: right;\">\n",
       "      <th></th>\n",
       "      <th>budget</th>\n",
       "      <th>revenue</th>\n",
       "      <th>runtime</th>\n",
       "      <th>vote_average</th>\n",
       "      <th>release_year</th>\n",
       "    </tr>\n",
       "  </thead>\n",
       "  <tbody>\n",
       "    <tr>\n",
       "      <th>count</th>\n",
       "      <td>1.889000e+03</td>\n",
       "      <td>1.889000e+03</td>\n",
       "      <td>1889.000000</td>\n",
       "      <td>1889.000000</td>\n",
       "      <td>1889.000000</td>\n",
       "    </tr>\n",
       "    <tr>\n",
       "      <th>mean</th>\n",
       "      <td>5.431083e+07</td>\n",
       "      <td>1.553653e+08</td>\n",
       "      <td>109.658549</td>\n",
       "      <td>6.140762</td>\n",
       "      <td>2007.860773</td>\n",
       "    </tr>\n",
       "    <tr>\n",
       "      <th>std</th>\n",
       "      <td>4.858721e+07</td>\n",
       "      <td>2.146698e+08</td>\n",
       "      <td>18.017041</td>\n",
       "      <td>0.764763</td>\n",
       "      <td>4.468841</td>\n",
       "    </tr>\n",
       "    <tr>\n",
       "      <th>min</th>\n",
       "      <td>5.000000e+06</td>\n",
       "      <td>2.033165e+06</td>\n",
       "      <td>63.000000</td>\n",
       "      <td>3.300000</td>\n",
       "      <td>2000.000000</td>\n",
       "    </tr>\n",
       "    <tr>\n",
       "      <th>25%</th>\n",
       "      <td>2.000000e+07</td>\n",
       "      <td>3.456058e+07</td>\n",
       "      <td>97.000000</td>\n",
       "      <td>5.600000</td>\n",
       "      <td>2004.000000</td>\n",
       "    </tr>\n",
       "    <tr>\n",
       "      <th>50%</th>\n",
       "      <td>3.800000e+07</td>\n",
       "      <td>8.361541e+07</td>\n",
       "      <td>107.000000</td>\n",
       "      <td>6.100000</td>\n",
       "      <td>2008.000000</td>\n",
       "    </tr>\n",
       "    <tr>\n",
       "      <th>75%</th>\n",
       "      <td>7.200000e+07</td>\n",
       "      <td>1.782626e+08</td>\n",
       "      <td>120.000000</td>\n",
       "      <td>6.600000</td>\n",
       "      <td>2012.000000</td>\n",
       "    </tr>\n",
       "    <tr>\n",
       "      <th>max</th>\n",
       "      <td>3.800000e+08</td>\n",
       "      <td>2.781506e+09</td>\n",
       "      <td>214.000000</td>\n",
       "      <td>8.100000</td>\n",
       "      <td>2015.000000</td>\n",
       "    </tr>\n",
       "  </tbody>\n",
       "</table>\n",
       "</div>"
      ],
      "text/plain": [
       "             budget       revenue      runtime  vote_average  release_year\n",
       "count  1.889000e+03  1.889000e+03  1889.000000   1889.000000   1889.000000\n",
       "mean   5.431083e+07  1.553653e+08   109.658549      6.140762   2007.860773\n",
       "std    4.858721e+07  2.146698e+08    18.017041      0.764763      4.468841\n",
       "min    5.000000e+06  2.033165e+06    63.000000      3.300000   2000.000000\n",
       "25%    2.000000e+07  3.456058e+07    97.000000      5.600000   2004.000000\n",
       "50%    3.800000e+07  8.361541e+07   107.000000      6.100000   2008.000000\n",
       "75%    7.200000e+07  1.782626e+08   120.000000      6.600000   2012.000000\n",
       "max    3.800000e+08  2.781506e+09   214.000000      8.100000   2015.000000"
      ]
     },
     "execution_count": 3,
     "metadata": {},
     "output_type": "execute_result"
    }
   ],
   "source": [
    "data.describe()"
   ]
  },
  {
   "cell_type": "markdown",
   "metadata": {
    "colab_type": "text",
    "id": "DTIt7ezGVp-G"
   },
   "source": [
    "# Предобработка"
   ]
  },
  {
   "cell_type": "code",
   "execution_count": 3,
   "metadata": {
    "colab": {},
    "colab_type": "code",
    "id": "jNb40DwKVp-H"
   },
   "outputs": [],
   "source": [
    "answers = {} # создадим словарь для ответов\n",
    "\n",
    "data['profit'] = data.revenue - data.budget # код получения столбца profit\n",
    "\n",
    "# тут другие ваши предобработки колонок например:\n",
    "\n",
    "#the time given in the dataset is in string format.\n",
    "#So we need to change this in datetime format\n",
    "# ..."
   ]
  },
  {
   "cell_type": "markdown",
   "metadata": {
    "colab_type": "text",
    "id": "YxZaH-nPVp-L"
   },
   "source": [
    "# 1. У какого фильма из списка самый большой бюджет?"
   ]
  },
  {
   "cell_type": "markdown",
   "metadata": {
    "colab_type": "text",
    "id": "Nd-G5gX6Vp-M"
   },
   "source": [
    "Использовать варианты ответов в коде решения запрещено.    \n",
    "Вы думаете и в жизни у вас будут варианты ответов?)"
   ]
  },
  {
   "cell_type": "code",
   "execution_count": 17,
   "metadata": {
    "colab": {},
    "colab_type": "code",
    "id": "uVnXAY5RVp-O"
   },
   "outputs": [],
   "source": [
    "# в словарь вставляем номер вопроса и ваш ответ на него\n",
    "# Пример: \n",
    "#answers['1'] = '2. Spider-Man 3 (tt0413300)'\n",
    "# запишите свой вариант ответа\n",
    "answers['1'] = '723. Pirates of the Caribbean: On Stranger Tides (tt1298650)' #+\n",
    "# если ответили верно, можете добавить комментарий со значком \"+\""
   ]
  },
  {
   "cell_type": "code",
   "execution_count": 23,
   "metadata": {
    "colab": {},
    "colab_type": "code",
    "id": "dZwb3m28Vp-S"
   },
   "outputs": [
    {
     "data": {
      "text/html": [
       "<div>\n",
       "<style scoped>\n",
       "    .dataframe tbody tr th:only-of-type {\n",
       "        vertical-align: middle;\n",
       "    }\n",
       "\n",
       "    .dataframe tbody tr th {\n",
       "        vertical-align: top;\n",
       "    }\n",
       "\n",
       "    .dataframe thead th {\n",
       "        text-align: right;\n",
       "    }\n",
       "</style>\n",
       "<table border=\"1\" class=\"dataframe\">\n",
       "  <thead>\n",
       "    <tr style=\"text-align: right;\">\n",
       "      <th></th>\n",
       "      <th>imdb_id</th>\n",
       "      <th>budget</th>\n",
       "      <th>revenue</th>\n",
       "      <th>original_title</th>\n",
       "      <th>cast</th>\n",
       "      <th>director</th>\n",
       "      <th>tagline</th>\n",
       "      <th>overview</th>\n",
       "      <th>runtime</th>\n",
       "      <th>genres</th>\n",
       "      <th>production_companies</th>\n",
       "      <th>release_date</th>\n",
       "      <th>vote_average</th>\n",
       "      <th>release_year</th>\n",
       "    </tr>\n",
       "  </thead>\n",
       "  <tbody>\n",
       "    <tr>\n",
       "      <th>723</th>\n",
       "      <td>tt1298650</td>\n",
       "      <td>380000000</td>\n",
       "      <td>1021683000</td>\n",
       "      <td>Pirates of the Caribbean: On Stranger Tides</td>\n",
       "      <td>Johnny Depp|PenÃ©lope Cruz|Geoffrey Rush|Ian M...</td>\n",
       "      <td>Rob Marshall</td>\n",
       "      <td>Live Forever Or Die Trying.</td>\n",
       "      <td>Captain Jack Sparrow crosses paths with a woma...</td>\n",
       "      <td>136</td>\n",
       "      <td>Adventure|Action|Fantasy</td>\n",
       "      <td>Walt Disney Pictures|Jerry Bruckheimer Films|M...</td>\n",
       "      <td>5/11/2011</td>\n",
       "      <td>6.3</td>\n",
       "      <td>2011</td>\n",
       "    </tr>\n",
       "  </tbody>\n",
       "</table>\n",
       "</div>"
      ],
      "text/plain": [
       "       imdb_id     budget     revenue  \\\n",
       "723  tt1298650  380000000  1021683000   \n",
       "\n",
       "                                  original_title  \\\n",
       "723  Pirates of the Caribbean: On Stranger Tides   \n",
       "\n",
       "                                                  cast      director  \\\n",
       "723  Johnny Depp|PenÃ©lope Cruz|Geoffrey Rush|Ian M...  Rob Marshall   \n",
       "\n",
       "                         tagline  \\\n",
       "723  Live Forever Or Die Trying.   \n",
       "\n",
       "                                              overview  runtime  \\\n",
       "723  Captain Jack Sparrow crosses paths with a woma...      136   \n",
       "\n",
       "                       genres  \\\n",
       "723  Adventure|Action|Fantasy   \n",
       "\n",
       "                                  production_companies release_date  \\\n",
       "723  Walt Disney Pictures|Jerry Bruckheimer Films|M...    5/11/2011   \n",
       "\n",
       "     vote_average  release_year  \n",
       "723           6.3          2011  "
      ]
     },
     "execution_count": 23,
     "metadata": {},
     "output_type": "execute_result"
    }
   ],
   "source": [
    "# тут пишем ваш код для решения данного вопроса:\n",
    "a = data[data.budget == data.budget.max()]\n",
    "a"
   ]
  },
  {
   "cell_type": "markdown",
   "metadata": {
    "colab_type": "text",
    "id": "K7L3nbRXVp-X"
   },
   "source": [
    "ВАРИАНТ 2"
   ]
  },
  {
   "cell_type": "code",
   "execution_count": 27,
   "metadata": {
    "colab": {},
    "colab_type": "code",
    "id": "OGaoQI7rVp-X"
   },
   "outputs": [],
   "source": [
    "# можно добавлять разные варианты решения"
   ]
  },
  {
   "cell_type": "markdown",
   "metadata": {
    "colab_type": "text",
    "id": "FNRbbI3vVp-c"
   },
   "source": [
    "# 2. Какой из фильмов самый длительный (в минутах)?"
   ]
  },
  {
   "cell_type": "code",
   "execution_count": 16,
   "metadata": {
    "colab": {},
    "colab_type": "code",
    "id": "vHAoEXNTVp-d"
   },
   "outputs": [],
   "source": [
    "# думаю логику работы с этим словарем вы уже поняли, \n",
    "# по этому не буду больше его дублировать\n",
    "answers['2'] = '1157. Gods and Generals (tt0279111)' #+"
   ]
  },
  {
   "cell_type": "code",
   "execution_count": 28,
   "metadata": {
    "colab": {},
    "colab_type": "code",
    "id": "ot-VX2XrVp-g"
   },
   "outputs": [
    {
     "data": {
      "text/html": [
       "<div>\n",
       "<style scoped>\n",
       "    .dataframe tbody tr th:only-of-type {\n",
       "        vertical-align: middle;\n",
       "    }\n",
       "\n",
       "    .dataframe tbody tr th {\n",
       "        vertical-align: top;\n",
       "    }\n",
       "\n",
       "    .dataframe thead th {\n",
       "        text-align: right;\n",
       "    }\n",
       "</style>\n",
       "<table border=\"1\" class=\"dataframe\">\n",
       "  <thead>\n",
       "    <tr style=\"text-align: right;\">\n",
       "      <th></th>\n",
       "      <th>imdb_id</th>\n",
       "      <th>budget</th>\n",
       "      <th>revenue</th>\n",
       "      <th>original_title</th>\n",
       "      <th>cast</th>\n",
       "      <th>director</th>\n",
       "      <th>tagline</th>\n",
       "      <th>overview</th>\n",
       "      <th>runtime</th>\n",
       "      <th>genres</th>\n",
       "      <th>production_companies</th>\n",
       "      <th>release_date</th>\n",
       "      <th>vote_average</th>\n",
       "      <th>release_year</th>\n",
       "    </tr>\n",
       "  </thead>\n",
       "  <tbody>\n",
       "    <tr>\n",
       "      <th>1157</th>\n",
       "      <td>tt0279111</td>\n",
       "      <td>56000000</td>\n",
       "      <td>12923936</td>\n",
       "      <td>Gods and Generals</td>\n",
       "      <td>Stephen Lang|Jeff Daniels|Robert Duvall|Kevin ...</td>\n",
       "      <td>Ronald F. Maxwell</td>\n",
       "      <td>The nations heart was touched by...</td>\n",
       "      <td>The film centers mostly around the personal an...</td>\n",
       "      <td>214</td>\n",
       "      <td>Drama|History|War</td>\n",
       "      <td>Turner Pictures|Antietam Filmworks</td>\n",
       "      <td>2/21/2003</td>\n",
       "      <td>5.8</td>\n",
       "      <td>2003</td>\n",
       "    </tr>\n",
       "  </tbody>\n",
       "</table>\n",
       "</div>"
      ],
      "text/plain": [
       "        imdb_id    budget   revenue     original_title  \\\n",
       "1157  tt0279111  56000000  12923936  Gods and Generals   \n",
       "\n",
       "                                                   cast           director  \\\n",
       "1157  Stephen Lang|Jeff Daniels|Robert Duvall|Kevin ...  Ronald F. Maxwell   \n",
       "\n",
       "                                  tagline  \\\n",
       "1157  The nations heart was touched by...   \n",
       "\n",
       "                                               overview  runtime  \\\n",
       "1157  The film centers mostly around the personal an...      214   \n",
       "\n",
       "                 genres                production_companies release_date  \\\n",
       "1157  Drama|History|War  Turner Pictures|Antietam Filmworks    2/21/2003   \n",
       "\n",
       "      vote_average  release_year  \n",
       "1157           5.8          2003  "
      ]
     },
     "execution_count": 28,
     "metadata": {},
     "output_type": "execute_result"
    }
   ],
   "source": [
    "c = data[data.runtime == data.runtime.max()]\n",
    "c"
   ]
  },
  {
   "cell_type": "markdown",
   "metadata": {
    "colab_type": "text",
    "id": "bapLlpW8Vp-k"
   },
   "source": [
    "# 3. Какой из фильмов самый короткий (в минутах)?\n",
    "\n",
    "\n",
    "\n"
   ]
  },
  {
   "cell_type": "code",
   "execution_count": 15,
   "metadata": {
    "colab": {},
    "colab_type": "code",
    "id": "YBxaSHuAVp-l"
   },
   "outputs": [],
   "source": [
    "answers['3'] = '768. Winnie the Pooh (tt1449283)' #+"
   ]
  },
  {
   "cell_type": "code",
   "execution_count": 17,
   "metadata": {},
   "outputs": [
    {
     "data": {
      "text/html": [
       "<div>\n",
       "<style scoped>\n",
       "    .dataframe tbody tr th:only-of-type {\n",
       "        vertical-align: middle;\n",
       "    }\n",
       "\n",
       "    .dataframe tbody tr th {\n",
       "        vertical-align: top;\n",
       "    }\n",
       "\n",
       "    .dataframe thead th {\n",
       "        text-align: right;\n",
       "    }\n",
       "</style>\n",
       "<table border=\"1\" class=\"dataframe\">\n",
       "  <thead>\n",
       "    <tr style=\"text-align: right;\">\n",
       "      <th></th>\n",
       "      <th>imdb_id</th>\n",
       "      <th>budget</th>\n",
       "      <th>revenue</th>\n",
       "      <th>original_title</th>\n",
       "      <th>cast</th>\n",
       "      <th>director</th>\n",
       "      <th>tagline</th>\n",
       "      <th>overview</th>\n",
       "      <th>runtime</th>\n",
       "      <th>genres</th>\n",
       "      <th>production_companies</th>\n",
       "      <th>release_date</th>\n",
       "      <th>vote_average</th>\n",
       "      <th>release_year</th>\n",
       "    </tr>\n",
       "  </thead>\n",
       "  <tbody>\n",
       "    <tr>\n",
       "      <th>768</th>\n",
       "      <td>tt1449283</td>\n",
       "      <td>30000000</td>\n",
       "      <td>14460000</td>\n",
       "      <td>Winnie the Pooh</td>\n",
       "      <td>Jim Cummings|Travis Oates|Jim Cummings|Bud Luc...</td>\n",
       "      <td>Stephen Anderson|Don Hall</td>\n",
       "      <td>Oh Pooh.</td>\n",
       "      <td>During an ordinary day in Hundred Acre Wood, W...</td>\n",
       "      <td>63</td>\n",
       "      <td>Animation|Family</td>\n",
       "      <td>Walt Disney Pictures|Walt Disney Animation Stu...</td>\n",
       "      <td>4/13/2011</td>\n",
       "      <td>6.8</td>\n",
       "      <td>2011</td>\n",
       "    </tr>\n",
       "  </tbody>\n",
       "</table>\n",
       "</div>"
      ],
      "text/plain": [
       "       imdb_id    budget   revenue   original_title  \\\n",
       "768  tt1449283  30000000  14460000  Winnie the Pooh   \n",
       "\n",
       "                                                  cast  \\\n",
       "768  Jim Cummings|Travis Oates|Jim Cummings|Bud Luc...   \n",
       "\n",
       "                      director   tagline  \\\n",
       "768  Stephen Anderson|Don Hall  Oh Pooh.   \n",
       "\n",
       "                                              overview  runtime  \\\n",
       "768  During an ordinary day in Hundred Acre Wood, W...       63   \n",
       "\n",
       "               genres                               production_companies  \\\n",
       "768  Animation|Family  Walt Disney Pictures|Walt Disney Animation Stu...   \n",
       "\n",
       "    release_date  vote_average  release_year  \n",
       "768    4/13/2011           6.8          2011  "
      ]
     },
     "execution_count": 17,
     "metadata": {},
     "output_type": "execute_result"
    }
   ],
   "source": [
    "d = data[data.runtime == data.runtime.min()]\n",
    "d"
   ]
  },
  {
   "cell_type": "code",
   "execution_count": 7,
   "metadata": {},
   "outputs": [
    {
     "name": "stdout",
     "output_type": "stream",
     "text": [
      "Winnie the Pooh\n"
     ]
    }
   ],
   "source": [
    "print(data.original_title[data.runtime.idxmin()])"
   ]
  },
  {
   "cell_type": "markdown",
   "metadata": {
    "colab_type": "text",
    "id": "TfQbxbfNVp-p"
   },
   "source": [
    "# 4. Какова средняя длительность фильмов?\n"
   ]
  },
  {
   "cell_type": "code",
   "execution_count": 14,
   "metadata": {
    "colab": {},
    "colab_type": "code",
    "id": "5K6dKZYVVp-q"
   },
   "outputs": [],
   "source": [
    "answers['4'] = 110 #+"
   ]
  },
  {
   "cell_type": "code",
   "execution_count": 30,
   "metadata": {},
   "outputs": [
    {
     "data": {
      "text/plain": [
       "109.6585494970884"
      ]
     },
     "execution_count": 30,
     "metadata": {},
     "output_type": "execute_result"
    }
   ],
   "source": [
    "e = data.runtime.mean()\n",
    "e"
   ]
  },
  {
   "cell_type": "markdown",
   "metadata": {
    "colab_type": "text",
    "id": "r5TvbnT_Vp-u"
   },
   "source": [
    "# 5. Каково медианное значение длительности фильмов? "
   ]
  },
  {
   "cell_type": "code",
   "execution_count": 13,
   "metadata": {
    "colab": {},
    "colab_type": "code",
    "id": "iBROplKnVp-v"
   },
   "outputs": [],
   "source": [
    "answers['5'] = 107 #+"
   ]
  },
  {
   "cell_type": "code",
   "execution_count": 31,
   "metadata": {},
   "outputs": [
    {
     "data": {
      "text/plain": [
       "107.0"
      ]
     },
     "execution_count": 31,
     "metadata": {},
     "output_type": "execute_result"
    }
   ],
   "source": [
    "f = data.runtime.median()\n",
    "f"
   ]
  },
  {
   "cell_type": "markdown",
   "metadata": {
    "colab_type": "text",
    "id": "39P-deDSVp-y"
   },
   "source": [
    "# 6. Какой самый прибыльный фильм?\n",
    "#### Внимание! Здесь и далее под «прибылью» или «убытками» понимается разность между сборами и бюджетом фильма. (прибыль = сборы - бюджет) в нашем датасете это будет (profit = revenue - budget) "
   ]
  },
  {
   "cell_type": "code",
   "execution_count": 12,
   "metadata": {},
   "outputs": [],
   "source": [
    "answers['6'] = '239. Avatar (tt0499549)' #+"
   ]
  },
  {
   "cell_type": "code",
   "execution_count": 27,
   "metadata": {
    "colab": {},
    "colab_type": "code",
    "id": "UYZh4T9WVp-y"
   },
   "outputs": [
    {
     "data": {
      "text/html": [
       "<div>\n",
       "<style scoped>\n",
       "    .dataframe tbody tr th:only-of-type {\n",
       "        vertical-align: middle;\n",
       "    }\n",
       "\n",
       "    .dataframe tbody tr th {\n",
       "        vertical-align: top;\n",
       "    }\n",
       "\n",
       "    .dataframe thead th {\n",
       "        text-align: right;\n",
       "    }\n",
       "</style>\n",
       "<table border=\"1\" class=\"dataframe\">\n",
       "  <thead>\n",
       "    <tr style=\"text-align: right;\">\n",
       "      <th></th>\n",
       "      <th>imdb_id</th>\n",
       "      <th>budget</th>\n",
       "      <th>revenue</th>\n",
       "      <th>original_title</th>\n",
       "      <th>cast</th>\n",
       "      <th>director</th>\n",
       "      <th>tagline</th>\n",
       "      <th>overview</th>\n",
       "      <th>runtime</th>\n",
       "      <th>genres</th>\n",
       "      <th>production_companies</th>\n",
       "      <th>release_date</th>\n",
       "      <th>vote_average</th>\n",
       "      <th>release_year</th>\n",
       "      <th>profit</th>\n",
       "    </tr>\n",
       "  </thead>\n",
       "  <tbody>\n",
       "    <tr>\n",
       "      <th>239</th>\n",
       "      <td>tt0499549</td>\n",
       "      <td>237000000</td>\n",
       "      <td>2781505847</td>\n",
       "      <td>Avatar</td>\n",
       "      <td>Sam Worthington|Zoe Saldana|Sigourney Weaver|S...</td>\n",
       "      <td>James Cameron</td>\n",
       "      <td>Enter the World of Pandora.</td>\n",
       "      <td>In the 22nd century, a paraplegic Marine is di...</td>\n",
       "      <td>162</td>\n",
       "      <td>Action|Adventure|Fantasy|Science Fiction</td>\n",
       "      <td>Ingenious Film Partners|Twentieth Century Fox ...</td>\n",
       "      <td>12/10/2009</td>\n",
       "      <td>7.1</td>\n",
       "      <td>2009</td>\n",
       "      <td>2544505847</td>\n",
       "    </tr>\n",
       "  </tbody>\n",
       "</table>\n",
       "</div>"
      ],
      "text/plain": [
       "       imdb_id     budget     revenue original_title  \\\n",
       "239  tt0499549  237000000  2781505847         Avatar   \n",
       "\n",
       "                                                  cast       director  \\\n",
       "239  Sam Worthington|Zoe Saldana|Sigourney Weaver|S...  James Cameron   \n",
       "\n",
       "                         tagline  \\\n",
       "239  Enter the World of Pandora.   \n",
       "\n",
       "                                              overview  runtime  \\\n",
       "239  In the 22nd century, a paraplegic Marine is di...      162   \n",
       "\n",
       "                                       genres  \\\n",
       "239  Action|Adventure|Fantasy|Science Fiction   \n",
       "\n",
       "                                  production_companies release_date  \\\n",
       "239  Ingenious Film Partners|Twentieth Century Fox ...   12/10/2009   \n",
       "\n",
       "     vote_average  release_year      profit  \n",
       "239           7.1          2009  2544505847  "
      ]
     },
     "execution_count": 27,
     "metadata": {},
     "output_type": "execute_result"
    }
   ],
   "source": [
    "# лучше код получения столбца profit вынести в Предобработку что в начале\n",
    "g = data[data.profit == data.profit.max()]\n",
    "g"
   ]
  },
  {
   "cell_type": "markdown",
   "metadata": {
    "colab_type": "text",
    "id": "M99JmIX4Vp-2"
   },
   "source": [
    "# 7. Какой фильм самый убыточный? "
   ]
  },
  {
   "cell_type": "code",
   "execution_count": 11,
   "metadata": {
    "colab": {},
    "colab_type": "code",
    "id": "w-D2m4XPVp-3"
   },
   "outputs": [],
   "source": [
    "answers['7'] = '1245. The Lone Ranger (tt1210819)' #+"
   ]
  },
  {
   "cell_type": "code",
   "execution_count": 28,
   "metadata": {},
   "outputs": [
    {
     "data": {
      "text/html": [
       "<div>\n",
       "<style scoped>\n",
       "    .dataframe tbody tr th:only-of-type {\n",
       "        vertical-align: middle;\n",
       "    }\n",
       "\n",
       "    .dataframe tbody tr th {\n",
       "        vertical-align: top;\n",
       "    }\n",
       "\n",
       "    .dataframe thead th {\n",
       "        text-align: right;\n",
       "    }\n",
       "</style>\n",
       "<table border=\"1\" class=\"dataframe\">\n",
       "  <thead>\n",
       "    <tr style=\"text-align: right;\">\n",
       "      <th></th>\n",
       "      <th>imdb_id</th>\n",
       "      <th>budget</th>\n",
       "      <th>revenue</th>\n",
       "      <th>original_title</th>\n",
       "      <th>cast</th>\n",
       "      <th>director</th>\n",
       "      <th>tagline</th>\n",
       "      <th>overview</th>\n",
       "      <th>runtime</th>\n",
       "      <th>genres</th>\n",
       "      <th>production_companies</th>\n",
       "      <th>release_date</th>\n",
       "      <th>vote_average</th>\n",
       "      <th>release_year</th>\n",
       "      <th>profit</th>\n",
       "    </tr>\n",
       "  </thead>\n",
       "  <tbody>\n",
       "    <tr>\n",
       "      <th>1245</th>\n",
       "      <td>tt1210819</td>\n",
       "      <td>255000000</td>\n",
       "      <td>89289910</td>\n",
       "      <td>The Lone Ranger</td>\n",
       "      <td>Johnny Depp|Armie Hammer|William Fichtner|Hele...</td>\n",
       "      <td>Gore Verbinski</td>\n",
       "      <td>Never Take Off the Mask</td>\n",
       "      <td>The Texas Rangers chase down a gang of outlaws...</td>\n",
       "      <td>149</td>\n",
       "      <td>Action|Adventure|Western</td>\n",
       "      <td>Walt Disney Pictures|Jerry Bruckheimer Films|I...</td>\n",
       "      <td>7/3/2013</td>\n",
       "      <td>6.0</td>\n",
       "      <td>2013</td>\n",
       "      <td>-165710090</td>\n",
       "    </tr>\n",
       "  </tbody>\n",
       "</table>\n",
       "</div>"
      ],
      "text/plain": [
       "        imdb_id     budget   revenue   original_title  \\\n",
       "1245  tt1210819  255000000  89289910  The Lone Ranger   \n",
       "\n",
       "                                                   cast        director  \\\n",
       "1245  Johnny Depp|Armie Hammer|William Fichtner|Hele...  Gore Verbinski   \n",
       "\n",
       "                      tagline  \\\n",
       "1245  Never Take Off the Mask   \n",
       "\n",
       "                                               overview  runtime  \\\n",
       "1245  The Texas Rangers chase down a gang of outlaws...      149   \n",
       "\n",
       "                        genres  \\\n",
       "1245  Action|Adventure|Western   \n",
       "\n",
       "                                   production_companies release_date  \\\n",
       "1245  Walt Disney Pictures|Jerry Bruckheimer Films|I...     7/3/2013   \n",
       "\n",
       "      vote_average  release_year     profit  \n",
       "1245           6.0          2013 -165710090  "
      ]
     },
     "execution_count": 28,
     "metadata": {},
     "output_type": "execute_result"
    }
   ],
   "source": [
    "h = data[data.profit == data.profit.min()]\n",
    "h"
   ]
  },
  {
   "cell_type": "markdown",
   "metadata": {
    "colab_type": "text",
    "id": "wEOM5ERVVp-6"
   },
   "source": [
    "# 8. У скольких фильмов из датасета объем сборов оказался выше бюджета?"
   ]
  },
  {
   "cell_type": "code",
   "execution_count": 10,
   "metadata": {
    "colab": {},
    "colab_type": "code",
    "id": "y00_7HD6Vp-7"
   },
   "outputs": [],
   "source": [
    "answers['8'] = 1478 #+"
   ]
  },
  {
   "cell_type": "code",
   "execution_count": 30,
   "metadata": {},
   "outputs": [
    {
     "data": {
      "text/plain": [
       "1478"
      ]
     },
     "execution_count": 30,
     "metadata": {},
     "output_type": "execute_result"
    }
   ],
   "source": [
    "i = data[data.revenue > data.budget]\n",
    "len(i)"
   ]
  },
  {
   "cell_type": "markdown",
   "metadata": {
    "colab_type": "text",
    "id": "xhpspA9KVp_A"
   },
   "source": [
    "# 9. Какой фильм оказался самым кассовым в 2008 году?"
   ]
  },
  {
   "cell_type": "code",
   "execution_count": 9,
   "metadata": {
    "colab": {},
    "colab_type": "code",
    "id": "MoUyQr9RVp_B"
   },
   "outputs": [],
   "source": [
    "answers['9'] = '599. The Dark Knight (tt0468569)' #+"
   ]
  },
  {
   "cell_type": "code",
   "execution_count": 46,
   "metadata": {},
   "outputs": [
    {
     "data": {
      "text/html": [
       "<div>\n",
       "<style scoped>\n",
       "    .dataframe tbody tr th:only-of-type {\n",
       "        vertical-align: middle;\n",
       "    }\n",
       "\n",
       "    .dataframe tbody tr th {\n",
       "        vertical-align: top;\n",
       "    }\n",
       "\n",
       "    .dataframe thead th {\n",
       "        text-align: right;\n",
       "    }\n",
       "</style>\n",
       "<table border=\"1\" class=\"dataframe\">\n",
       "  <thead>\n",
       "    <tr style=\"text-align: right;\">\n",
       "      <th></th>\n",
       "      <th>imdb_id</th>\n",
       "      <th>budget</th>\n",
       "      <th>revenue</th>\n",
       "      <th>original_title</th>\n",
       "      <th>cast</th>\n",
       "      <th>director</th>\n",
       "      <th>tagline</th>\n",
       "      <th>overview</th>\n",
       "      <th>runtime</th>\n",
       "      <th>genres</th>\n",
       "      <th>production_companies</th>\n",
       "      <th>release_date</th>\n",
       "      <th>vote_average</th>\n",
       "      <th>release_year</th>\n",
       "      <th>profit</th>\n",
       "    </tr>\n",
       "  </thead>\n",
       "  <tbody>\n",
       "    <tr>\n",
       "      <th>599</th>\n",
       "      <td>tt0468569</td>\n",
       "      <td>185000000</td>\n",
       "      <td>1001921825</td>\n",
       "      <td>The Dark Knight</td>\n",
       "      <td>Christian Bale|Michael Caine|Heath Ledger|Aaro...</td>\n",
       "      <td>Christopher Nolan</td>\n",
       "      <td>Why So Serious?</td>\n",
       "      <td>Batman raises the stakes in his war on crime. ...</td>\n",
       "      <td>152</td>\n",
       "      <td>Drama|Action|Crime|Thriller</td>\n",
       "      <td>DC Comics|Legendary Pictures|Warner Bros.|Syncopy</td>\n",
       "      <td>7/16/2008</td>\n",
       "      <td>8.1</td>\n",
       "      <td>2008</td>\n",
       "      <td>816921825</td>\n",
       "    </tr>\n",
       "  </tbody>\n",
       "</table>\n",
       "</div>"
      ],
      "text/plain": [
       "       imdb_id     budget     revenue   original_title  \\\n",
       "599  tt0468569  185000000  1001921825  The Dark Knight   \n",
       "\n",
       "                                                  cast           director  \\\n",
       "599  Christian Bale|Michael Caine|Heath Ledger|Aaro...  Christopher Nolan   \n",
       "\n",
       "             tagline                                           overview  \\\n",
       "599  Why So Serious?  Batman raises the stakes in his war on crime. ...   \n",
       "\n",
       "     runtime                       genres  \\\n",
       "599      152  Drama|Action|Crime|Thriller   \n",
       "\n",
       "                                  production_companies release_date  \\\n",
       "599  DC Comics|Legendary Pictures|Warner Bros.|Syncopy    7/16/2008   \n",
       "\n",
       "     vote_average  release_year     profit  \n",
       "599           8.1          2008  816921825  "
      ]
     },
     "execution_count": 46,
     "metadata": {},
     "output_type": "execute_result"
    }
   ],
   "source": [
    "j = data[data.release_year == 2008]\n",
    "k = j[j.revenue == j.revenue.max()]\n",
    "k"
   ]
  },
  {
   "cell_type": "markdown",
   "metadata": {
    "colab_type": "text",
    "id": "Zi4hDKidVp_F"
   },
   "source": [
    "# 10. Самый убыточный фильм за период с 2012 по 2014 г. (включительно)?\n"
   ]
  },
  {
   "cell_type": "code",
   "execution_count": 8,
   "metadata": {},
   "outputs": [],
   "source": [
    "answers['10'] = '1245. The Lone Ranger (tt1210819)' #+"
   ]
  },
  {
   "cell_type": "code",
   "execution_count": 7,
   "metadata": {
    "colab": {},
    "colab_type": "code",
    "id": "XqyRmufJVp_F",
    "scrolled": true
   },
   "outputs": [
    {
     "data": {
      "text/html": [
       "<div>\n",
       "<style scoped>\n",
       "    .dataframe tbody tr th:only-of-type {\n",
       "        vertical-align: middle;\n",
       "    }\n",
       "\n",
       "    .dataframe tbody tr th {\n",
       "        vertical-align: top;\n",
       "    }\n",
       "\n",
       "    .dataframe thead th {\n",
       "        text-align: right;\n",
       "    }\n",
       "</style>\n",
       "<table border=\"1\" class=\"dataframe\">\n",
       "  <thead>\n",
       "    <tr style=\"text-align: right;\">\n",
       "      <th></th>\n",
       "      <th>imdb_id</th>\n",
       "      <th>budget</th>\n",
       "      <th>revenue</th>\n",
       "      <th>original_title</th>\n",
       "      <th>cast</th>\n",
       "      <th>director</th>\n",
       "      <th>tagline</th>\n",
       "      <th>overview</th>\n",
       "      <th>runtime</th>\n",
       "      <th>genres</th>\n",
       "      <th>production_companies</th>\n",
       "      <th>release_date</th>\n",
       "      <th>vote_average</th>\n",
       "      <th>release_year</th>\n",
       "      <th>profit</th>\n",
       "    </tr>\n",
       "  </thead>\n",
       "  <tbody>\n",
       "    <tr>\n",
       "      <th>1245</th>\n",
       "      <td>tt1210819</td>\n",
       "      <td>255000000</td>\n",
       "      <td>89289910</td>\n",
       "      <td>The Lone Ranger</td>\n",
       "      <td>Johnny Depp|Armie Hammer|William Fichtner|Hele...</td>\n",
       "      <td>Gore Verbinski</td>\n",
       "      <td>Never Take Off the Mask</td>\n",
       "      <td>The Texas Rangers chase down a gang of outlaws...</td>\n",
       "      <td>149</td>\n",
       "      <td>Action|Adventure|Western</td>\n",
       "      <td>Walt Disney Pictures|Jerry Bruckheimer Films|I...</td>\n",
       "      <td>7/3/2013</td>\n",
       "      <td>6.0</td>\n",
       "      <td>2013</td>\n",
       "      <td>-165710090</td>\n",
       "    </tr>\n",
       "  </tbody>\n",
       "</table>\n",
       "</div>"
      ],
      "text/plain": [
       "        imdb_id     budget   revenue   original_title  \\\n",
       "1245  tt1210819  255000000  89289910  The Lone Ranger   \n",
       "\n",
       "                                                   cast        director  \\\n",
       "1245  Johnny Depp|Armie Hammer|William Fichtner|Hele...  Gore Verbinski   \n",
       "\n",
       "                      tagline  \\\n",
       "1245  Never Take Off the Mask   \n",
       "\n",
       "                                               overview  runtime  \\\n",
       "1245  The Texas Rangers chase down a gang of outlaws...      149   \n",
       "\n",
       "                        genres  \\\n",
       "1245  Action|Adventure|Western   \n",
       "\n",
       "                                   production_companies release_date  \\\n",
       "1245  Walt Disney Pictures|Jerry Bruckheimer Films|I...     7/3/2013   \n",
       "\n",
       "      vote_average  release_year     profit  \n",
       "1245           6.0          2013 -165710090  "
      ]
     },
     "execution_count": 7,
     "metadata": {},
     "output_type": "execute_result"
    }
   ],
   "source": [
    "l = data[(data.release_year >= 2012) & (data.release_year <= 2014)]\n",
    "m = l[l.profit == l.profit.min()]\n",
    "m"
   ]
  },
  {
   "cell_type": "markdown",
   "metadata": {
    "colab_type": "text",
    "id": "EA7Sa9dkVp_I"
   },
   "source": [
    "# 11. Какого жанра фильмов больше всего?"
   ]
  },
  {
   "cell_type": "code",
   "execution_count": 0,
   "metadata": {
    "colab": {},
    "colab_type": "code",
    "id": "zsJAwJ8QVp_J"
   },
   "outputs": [],
   "source": [
    "# эту задачу тоже можно решать разными подходами, попробуй реализовать разные варианты\n",
    "# если будешь добавлять функцию - выноси ее в предобработку что в начале"
   ]
  },
  {
   "cell_type": "markdown",
   "metadata": {
    "colab_type": "text",
    "id": "Ax6g2C8SVp_M"
   },
   "source": [
    "ВАРИАНТ 2"
   ]
  },
  {
   "cell_type": "code",
   "execution_count": 0,
   "metadata": {
    "colab": {},
    "colab_type": "code",
    "id": "otO3SbrSVp_N"
   },
   "outputs": [],
   "source": [
    "answers['11'] = 'Drama'"
   ]
  },
  {
   "cell_type": "code",
   "execution_count": 26,
   "metadata": {},
   "outputs": [
    {
     "name": "stdout",
     "output_type": "stream",
     "text": [
      "[('Drama', 782)]\n"
     ]
    }
   ],
   "source": [
    "import collections\n",
    "data = pd.read_csv('movie_bd_v5.csv')\n",
    "n = collections.Counter(data['genres'].str.cat(sep = '|').split('|')).most_common(1)\n",
    "#соединю все значения в столбце 'genres' по разделетелю '|', разделю на список жанров по такому же разделителю\n",
    "print(n)"
   ]
  },
  {
   "cell_type": "code",
   "execution_count": 53,
   "metadata": {},
   "outputs": [
    {
     "data": {
      "text/plain": [
       "'Drama'"
      ]
     },
     "execution_count": 53,
     "metadata": {},
     "output_type": "execute_result"
    }
   ],
   "source": [
    "# !!!!! если будешь добавлять функцию - выноси ее в предобработку что в начале !!!!!\n",
    "#додумать или удалить\n",
    "\n",
    "data = pd.read_csv('movie_bd_v5.csv')\n",
    "\n",
    "# (12). splitting genres:\n",
    "data['genres'] = data['genres'].apply(lambda x:x.split('|'))\n",
    "\n",
    "\n",
    "# (12). Genres counter function:\n",
    "def genres_count(a):\n",
    "    for i in a:\n",
    "        if i in genres_dict:\n",
    "            genres_dict[i] += 1\n",
    "        else:\n",
    "            genres_dict[i] = 1\n",
    "    return genres_dict\n",
    "\n",
    "# dict for counting genres occurrences\n",
    "genres_dict = {}\n",
    "# calling for function which fills genres_dict\n",
    "data['genres'].apply(genres_count)\n",
    "# sorting of values is more convenient in pd.Series\n",
    "genres_series = pd.Series(genres_dict).sort_values(ascending=False)\n",
    "genres_series.index[0]"
   ]
  },
  {
   "cell_type": "markdown",
   "metadata": {
    "colab_type": "text",
    "id": "T9_bPWpkVp_Q"
   },
   "source": [
    "# 12. Фильмы какого жанра чаще всего становятся прибыльными? "
   ]
  },
  {
   "cell_type": "code",
   "execution_count": 0,
   "metadata": {
    "colab": {},
    "colab_type": "code",
    "id": "Tmt8MaK1Vp_R"
   },
   "outputs": [],
   "source": [
    "answers['12'] = 'Drama'"
   ]
  },
  {
   "cell_type": "code",
   "execution_count": 40,
   "metadata": {},
   "outputs": [
    {
     "data": {
      "text/plain": [
       "[('Drama', 560)]"
      ]
     },
     "execution_count": 40,
     "metadata": {},
     "output_type": "execute_result"
    }
   ],
   "source": [
    "import collections\n",
    "\n",
    "#найду фильмы, у которых profit > 0\n",
    "o = data[data.profit > 0]\n",
    "\n",
    "#для подсчёта количества фильмов в жанре соединю все значения в столбце 'genres' по разделетелю '|', разделю на список жанров по такому же разделителю\n",
    "p = collections.Counter(o['genres'].str.cat(sep = '|').split('|')).most_common(1)\n",
    "\n",
    "p"
   ]
  },
  {
   "cell_type": "markdown",
   "metadata": {
    "colab_type": "text",
    "id": "0F23bgsDVp_U"
   },
   "source": [
    "# 13. У какого режиссера самые большие суммарные кассовые сборы?"
   ]
  },
  {
   "cell_type": "code",
   "execution_count": 0,
   "metadata": {
    "colab": {},
    "colab_type": "code",
    "id": "K6Z3J8ygVp_X"
   },
   "outputs": [],
   "source": [
    "answers['13'] = 'Peter Jackson'"
   ]
  },
  {
   "cell_type": "code",
   "execution_count": 89,
   "metadata": {},
   "outputs": [
    {
     "data": {
      "text/plain": [
       "'Peter Jackson'"
      ]
     },
     "execution_count": 89,
     "metadata": {},
     "output_type": "execute_result"
    }
   ],
   "source": [
    "data = pd.read_csv('movie_bd_v5.csv')\n",
    "\n",
    "#запишу весь датафрейм data в data_director\n",
    "data_director = data[:]\n",
    "\n",
    "#запишу в столбец реж значение режисёров с разделителем '|'\n",
    "data_director['director'] = data['director'].apply(lambda x:x.split('|'))\n",
    "\n",
    "#Преобразую каждый элемент списка в строку, реплицируя значения индекса.\n",
    "data_director = data_director.explode('director')\n",
    "\n",
    "#сгруппирую значения сумм revenue для каждого режисёра, отсортирую и выведу первое\n",
    "answer = data_director.groupby('director')['revenue'].apply(sum).sort_values(ascending=False).keys()[0]\n",
    "\n",
    "answer"
   ]
  },
  {
   "cell_type": "markdown",
   "metadata": {
    "colab_type": "text",
    "id": "PsYC9FgRVp_a"
   },
   "source": [
    "# 14. Какой режисер снял больше всего фильмов в стиле Action?"
   ]
  },
  {
   "cell_type": "code",
   "execution_count": 0,
   "metadata": {
    "colab": {},
    "colab_type": "code",
    "id": "wd2M-wHeVp_b"
   },
   "outputs": [],
   "source": [
    "answers['14'] = 'Robert Rodriguez'"
   ]
  },
  {
   "cell_type": "code",
   "execution_count": 66,
   "metadata": {},
   "outputs": [
    {
     "data": {
      "text/plain": [
       "[('Robert Rodriguez', 9)]"
      ]
     },
     "execution_count": 66,
     "metadata": {},
     "output_type": "execute_result"
    }
   ],
   "source": [
    "data = pd.read_csv('movie_bd_v5.csv')\n",
    "import collections\n",
    "\n",
    "#найду фильмы, у которых в жанре содержится 'Action'\n",
    "df = data[data.genres.str.contains('Action')]\n",
    "#посчитаю сколько фильмов снял каждый реж из df\n",
    "#соединю все значения столбца режей в одну строку по разделетелю '|', разделить на список режиссеров по такому же разделителю\n",
    "c = collections.Counter(df['director'].str.cat(sep = '|').split('|')).most_common(1)\n",
    "c"
   ]
  },
  {
   "cell_type": "markdown",
   "metadata": {
    "colab_type": "text",
    "id": "PQ0KciD7Vp_f"
   },
   "source": [
    "# 15. Фильмы с каким актером принесли самые высокие кассовые сборы в 2012 году? "
   ]
  },
  {
   "cell_type": "code",
   "execution_count": null,
   "metadata": {},
   "outputs": [],
   "source": [
    "answers['15'] = 'Chris Hemsworth'"
   ]
  },
  {
   "cell_type": "code",
   "execution_count": 15,
   "metadata": {
    "colab": {},
    "colab_type": "code",
    "id": "aga62oeKVp_g"
   },
   "outputs": [
    {
     "data": {
      "text/html": [
       "<div>\n",
       "<style scoped>\n",
       "    .dataframe tbody tr th:only-of-type {\n",
       "        vertical-align: middle;\n",
       "    }\n",
       "\n",
       "    .dataframe tbody tr th {\n",
       "        vertical-align: top;\n",
       "    }\n",
       "\n",
       "    .dataframe thead th {\n",
       "        text-align: right;\n",
       "    }\n",
       "</style>\n",
       "<table border=\"1\" class=\"dataframe\">\n",
       "  <thead>\n",
       "    <tr style=\"text-align: right;\">\n",
       "      <th></th>\n",
       "      <th>imdb_id</th>\n",
       "      <th>budget</th>\n",
       "      <th>revenue</th>\n",
       "      <th>original_title</th>\n",
       "      <th>cast</th>\n",
       "      <th>director</th>\n",
       "      <th>tagline</th>\n",
       "      <th>overview</th>\n",
       "      <th>runtime</th>\n",
       "      <th>genres</th>\n",
       "      <th>production_companies</th>\n",
       "      <th>release_date</th>\n",
       "      <th>vote_average</th>\n",
       "      <th>release_year</th>\n",
       "      <th>title_length</th>\n",
       "    </tr>\n",
       "  </thead>\n",
       "  <tbody>\n",
       "    <tr>\n",
       "      <th>970</th>\n",
       "      <td>tt0848228</td>\n",
       "      <td>220000000</td>\n",
       "      <td>1519557910</td>\n",
       "      <td>The Avengers</td>\n",
       "      <td>Robert Downey Jr.|Chris Evans|Mark Ruffalo|Chr...</td>\n",
       "      <td>Joss Whedon</td>\n",
       "      <td>Some assembly required.</td>\n",
       "      <td>When an unexpected enemy emerges and threatens...</td>\n",
       "      <td>143</td>\n",
       "      <td>Science Fiction|Action|Adventure</td>\n",
       "      <td>[Marvel Studios]</td>\n",
       "      <td>[4, 25, 2012]</td>\n",
       "      <td>7.3</td>\n",
       "      <td>2012</td>\n",
       "      <td>12</td>\n",
       "    </tr>\n",
       "    <tr>\n",
       "      <th>971</th>\n",
       "      <td>tt1496025</td>\n",
       "      <td>70000000</td>\n",
       "      <td>132400000</td>\n",
       "      <td>Underworld: Awakening</td>\n",
       "      <td>Kate Beckinsale|Stephen Rea|Michael Ealy|Theo ...</td>\n",
       "      <td>MÃ¥ns MÃ¥rlind|BjÃ¶rn Stein</td>\n",
       "      <td>Vengeance Returns</td>\n",
       "      <td>After being held in a coma-like state for fift...</td>\n",
       "      <td>88</td>\n",
       "      <td>Fantasy|Action|Horror</td>\n",
       "      <td>[Lakeshore Entertainment, Saturn Films, Screen...</td>\n",
       "      <td>[1, 19, 2012]</td>\n",
       "      <td>6.0</td>\n",
       "      <td>2012</td>\n",
       "      <td>21</td>\n",
       "    </tr>\n",
       "    <tr>\n",
       "      <th>972</th>\n",
       "      <td>tt1345836</td>\n",
       "      <td>250000000</td>\n",
       "      <td>1081041287</td>\n",
       "      <td>The Dark Knight Rises</td>\n",
       "      <td>Christian Bale|Michael Caine|Gary Oldman|Anne ...</td>\n",
       "      <td>Christopher Nolan</td>\n",
       "      <td>The Legend Ends</td>\n",
       "      <td>Following the death of District Attorney Harve...</td>\n",
       "      <td>165</td>\n",
       "      <td>Action|Crime|Drama|Thriller</td>\n",
       "      <td>[Legendary Pictures, Warner Bros., DC Entertai...</td>\n",
       "      <td>[7, 16, 2012]</td>\n",
       "      <td>7.5</td>\n",
       "      <td>2012</td>\n",
       "      <td>21</td>\n",
       "    </tr>\n",
       "    <tr>\n",
       "      <th>973</th>\n",
       "      <td>tt1853728</td>\n",
       "      <td>100000000</td>\n",
       "      <td>425368238</td>\n",
       "      <td>Django Unchained</td>\n",
       "      <td>Jamie Foxx|Christoph Waltz|Leonardo DiCaprio|K...</td>\n",
       "      <td>Quentin Tarantino</td>\n",
       "      <td>Life, liberty and the pursuit of vengeance.</td>\n",
       "      <td>With the help of a German bounty hunter, a fre...</td>\n",
       "      <td>165</td>\n",
       "      <td>Drama|Western</td>\n",
       "      <td>[Columbia Pictures, The Weinstein Company]</td>\n",
       "      <td>[12, 25, 2012]</td>\n",
       "      <td>7.7</td>\n",
       "      <td>2012</td>\n",
       "      <td>16</td>\n",
       "    </tr>\n",
       "    <tr>\n",
       "      <th>974</th>\n",
       "      <td>tt1074638</td>\n",
       "      <td>200000000</td>\n",
       "      <td>1108561013</td>\n",
       "      <td>Skyfall</td>\n",
       "      <td>Daniel Craig|Judi Dench|Javier Bardem|Ralph Fi...</td>\n",
       "      <td>Sam Mendes</td>\n",
       "      <td>Think on your sins.</td>\n",
       "      <td>When Bond's latest assignment goes gravely wro...</td>\n",
       "      <td>143</td>\n",
       "      <td>Action|Adventure|Thriller</td>\n",
       "      <td>[Columbia Pictures]</td>\n",
       "      <td>[10, 25, 2012]</td>\n",
       "      <td>6.8</td>\n",
       "      <td>2012</td>\n",
       "      <td>7</td>\n",
       "    </tr>\n",
       "    <tr>\n",
       "      <th>...</th>\n",
       "      <td>...</td>\n",
       "      <td>...</td>\n",
       "      <td>...</td>\n",
       "      <td>...</td>\n",
       "      <td>...</td>\n",
       "      <td>...</td>\n",
       "      <td>...</td>\n",
       "      <td>...</td>\n",
       "      <td>...</td>\n",
       "      <td>...</td>\n",
       "      <td>...</td>\n",
       "      <td>...</td>\n",
       "      <td>...</td>\n",
       "      <td>...</td>\n",
       "      <td>...</td>\n",
       "    </tr>\n",
       "    <tr>\n",
       "      <th>1076</th>\n",
       "      <td>tt1433822</td>\n",
       "      <td>17000000</td>\n",
       "      <td>9627492</td>\n",
       "      <td>The Apparition</td>\n",
       "      <td>Ashley Greene|Sebastian Stan|Tom Felton|Julian...</td>\n",
       "      <td>Todd Lincoln</td>\n",
       "      <td>Once You Believe You Die</td>\n",
       "      <td>Plagued by frightening occurrences in their ho...</td>\n",
       "      <td>82</td>\n",
       "      <td>Horror|Thriller</td>\n",
       "      <td>[StudioCanal, Dark Castle Entertainment, Warne...</td>\n",
       "      <td>[8, 23, 2012]</td>\n",
       "      <td>4.4</td>\n",
       "      <td>2012</td>\n",
       "      <td>14</td>\n",
       "    </tr>\n",
       "    <tr>\n",
       "      <th>1077</th>\n",
       "      <td>tt1480656</td>\n",
       "      <td>20500000</td>\n",
       "      <td>6063556</td>\n",
       "      <td>Cosmopolis</td>\n",
       "      <td>Robert Pattinson|Sarah Gadon|Juliette Binoche|...</td>\n",
       "      <td>David Cronenberg</td>\n",
       "      <td>How far can he go before he goes too far?</td>\n",
       "      <td>Riding across Manhattan in a stretch limo in o...</td>\n",
       "      <td>109</td>\n",
       "      <td>Drama</td>\n",
       "      <td>[France 2 CinÃ©ma, TÃ©lÃ©film Canada, Rai Cine...</td>\n",
       "      <td>[5, 25, 2012]</td>\n",
       "      <td>4.8</td>\n",
       "      <td>2012</td>\n",
       "      <td>10</td>\n",
       "    </tr>\n",
       "    <tr>\n",
       "      <th>1078</th>\n",
       "      <td>tt1855325</td>\n",
       "      <td>65000000</td>\n",
       "      <td>240159255</td>\n",
       "      <td>Resident Evil: Retribution</td>\n",
       "      <td>Milla Jovovich|Sienna Guillory|Michelle Rodrig...</td>\n",
       "      <td>Paul W.S. Anderson</td>\n",
       "      <td>The Ultimate Battle Begins</td>\n",
       "      <td>The Umbrella Corporationâ€™s deadly T-virus co...</td>\n",
       "      <td>95</td>\n",
       "      <td>Action|Horror|Science Fiction</td>\n",
       "      <td>[Davis-Films]</td>\n",
       "      <td>[9, 12, 2012]</td>\n",
       "      <td>5.6</td>\n",
       "      <td>2012</td>\n",
       "      <td>26</td>\n",
       "    </tr>\n",
       "    <tr>\n",
       "      <th>1079</th>\n",
       "      <td>tt1876451</td>\n",
       "      <td>14000000</td>\n",
       "      <td>24637469</td>\n",
       "      <td>Sparkle</td>\n",
       "      <td>Whitney Houston|Cee Lo Green|Derek Luke|Mike E...</td>\n",
       "      <td>Salim Akil</td>\n",
       "      <td>Celebrate the legend.</td>\n",
       "      <td>Musical prodigy, Sparkle (Jordin Sparks) strug...</td>\n",
       "      <td>116</td>\n",
       "      <td>Drama|Music</td>\n",
       "      <td>[TriStar Pictures, Phoenix Pictures, Stage 6 F...</td>\n",
       "      <td>[8, 17, 2012]</td>\n",
       "      <td>5.9</td>\n",
       "      <td>2012</td>\n",
       "      <td>7</td>\n",
       "    </tr>\n",
       "    <tr>\n",
       "      <th>1080</th>\n",
       "      <td>tt2215719</td>\n",
       "      <td>12000000</td>\n",
       "      <td>32726956</td>\n",
       "      <td>Katy Perry: Part of Me</td>\n",
       "      <td>Katy Perry|Russell Brand|Shannon Woodward|Rach...</td>\n",
       "      <td>Dan Cutforth|Jane Lipsitz</td>\n",
       "      <td>Be yourself and you can be anything</td>\n",
       "      <td>Giving fans unprecedented access to the real l...</td>\n",
       "      <td>93</td>\n",
       "      <td>Documentary|Music</td>\n",
       "      <td>[Paramount Pictures, Imagine Entertainment, MT...</td>\n",
       "      <td>[6, 28, 2012]</td>\n",
       "      <td>6.5</td>\n",
       "      <td>2012</td>\n",
       "      <td>22</td>\n",
       "    </tr>\n",
       "  </tbody>\n",
       "</table>\n",
       "<p>111 rows × 15 columns</p>\n",
       "</div>"
      ],
      "text/plain": [
       "        imdb_id     budget     revenue              original_title  \\\n",
       "970   tt0848228  220000000  1519557910                The Avengers   \n",
       "971   tt1496025   70000000   132400000       Underworld: Awakening   \n",
       "972   tt1345836  250000000  1081041287       The Dark Knight Rises   \n",
       "973   tt1853728  100000000   425368238            Django Unchained   \n",
       "974   tt1074638  200000000  1108561013                     Skyfall   \n",
       "...         ...        ...         ...                         ...   \n",
       "1076  tt1433822   17000000     9627492              The Apparition   \n",
       "1077  tt1480656   20500000     6063556                  Cosmopolis   \n",
       "1078  tt1855325   65000000   240159255  Resident Evil: Retribution   \n",
       "1079  tt1876451   14000000    24637469                     Sparkle   \n",
       "1080  tt2215719   12000000    32726956      Katy Perry: Part of Me   \n",
       "\n",
       "                                                   cast  \\\n",
       "970   Robert Downey Jr.|Chris Evans|Mark Ruffalo|Chr...   \n",
       "971   Kate Beckinsale|Stephen Rea|Michael Ealy|Theo ...   \n",
       "972   Christian Bale|Michael Caine|Gary Oldman|Anne ...   \n",
       "973   Jamie Foxx|Christoph Waltz|Leonardo DiCaprio|K...   \n",
       "974   Daniel Craig|Judi Dench|Javier Bardem|Ralph Fi...   \n",
       "...                                                 ...   \n",
       "1076  Ashley Greene|Sebastian Stan|Tom Felton|Julian...   \n",
       "1077  Robert Pattinson|Sarah Gadon|Juliette Binoche|...   \n",
       "1078  Milla Jovovich|Sienna Guillory|Michelle Rodrig...   \n",
       "1079  Whitney Houston|Cee Lo Green|Derek Luke|Mike E...   \n",
       "1080  Katy Perry|Russell Brand|Shannon Woodward|Rach...   \n",
       "\n",
       "                         director  \\\n",
       "970                   Joss Whedon   \n",
       "971   MÃ¥ns MÃ¥rlind|BjÃ¶rn Stein   \n",
       "972             Christopher Nolan   \n",
       "973             Quentin Tarantino   \n",
       "974                    Sam Mendes   \n",
       "...                           ...   \n",
       "1076                Todd Lincoln    \n",
       "1077             David Cronenberg   \n",
       "1078           Paul W.S. Anderson   \n",
       "1079                   Salim Akil   \n",
       "1080    Dan Cutforth|Jane Lipsitz   \n",
       "\n",
       "                                          tagline  \\\n",
       "970                       Some assembly required.   \n",
       "971                             Vengeance Returns   \n",
       "972                               The Legend Ends   \n",
       "973   Life, liberty and the pursuit of vengeance.   \n",
       "974                           Think on your sins.   \n",
       "...                                           ...   \n",
       "1076                     Once You Believe You Die   \n",
       "1077    How far can he go before he goes too far?   \n",
       "1078                   The Ultimate Battle Begins   \n",
       "1079                        Celebrate the legend.   \n",
       "1080          Be yourself and you can be anything   \n",
       "\n",
       "                                               overview  runtime  \\\n",
       "970   When an unexpected enemy emerges and threatens...      143   \n",
       "971   After being held in a coma-like state for fift...       88   \n",
       "972   Following the death of District Attorney Harve...      165   \n",
       "973   With the help of a German bounty hunter, a fre...      165   \n",
       "974   When Bond's latest assignment goes gravely wro...      143   \n",
       "...                                                 ...      ...   \n",
       "1076  Plagued by frightening occurrences in their ho...       82   \n",
       "1077  Riding across Manhattan in a stretch limo in o...      109   \n",
       "1078  The Umbrella Corporationâ€™s deadly T-virus co...       95   \n",
       "1079  Musical prodigy, Sparkle (Jordin Sparks) strug...      116   \n",
       "1080  Giving fans unprecedented access to the real l...       93   \n",
       "\n",
       "                                genres  \\\n",
       "970   Science Fiction|Action|Adventure   \n",
       "971              Fantasy|Action|Horror   \n",
       "972        Action|Crime|Drama|Thriller   \n",
       "973                      Drama|Western   \n",
       "974          Action|Adventure|Thriller   \n",
       "...                                ...   \n",
       "1076                   Horror|Thriller   \n",
       "1077                             Drama   \n",
       "1078     Action|Horror|Science Fiction   \n",
       "1079                       Drama|Music   \n",
       "1080                 Documentary|Music   \n",
       "\n",
       "                                   production_companies    release_date  \\\n",
       "970                                    [Marvel Studios]   [4, 25, 2012]   \n",
       "971   [Lakeshore Entertainment, Saturn Films, Screen...   [1, 19, 2012]   \n",
       "972   [Legendary Pictures, Warner Bros., DC Entertai...   [7, 16, 2012]   \n",
       "973          [Columbia Pictures, The Weinstein Company]  [12, 25, 2012]   \n",
       "974                                 [Columbia Pictures]  [10, 25, 2012]   \n",
       "...                                                 ...             ...   \n",
       "1076  [StudioCanal, Dark Castle Entertainment, Warne...   [8, 23, 2012]   \n",
       "1077  [France 2 CinÃ©ma, TÃ©lÃ©film Canada, Rai Cine...   [5, 25, 2012]   \n",
       "1078                                      [Davis-Films]   [9, 12, 2012]   \n",
       "1079  [TriStar Pictures, Phoenix Pictures, Stage 6 F...   [8, 17, 2012]   \n",
       "1080  [Paramount Pictures, Imagine Entertainment, MT...   [6, 28, 2012]   \n",
       "\n",
       "      vote_average  release_year  title_length  \n",
       "970            7.3          2012            12  \n",
       "971            6.0          2012            21  \n",
       "972            7.5          2012            21  \n",
       "973            7.7          2012            16  \n",
       "974            6.8          2012             7  \n",
       "...            ...           ...           ...  \n",
       "1076           4.4          2012            14  \n",
       "1077           4.8          2012            10  \n",
       "1078           5.6          2012            26  \n",
       "1079           5.9          2012             7  \n",
       "1080           6.5          2012            22  \n",
       "\n",
       "[111 rows x 15 columns]"
      ]
     },
     "execution_count": 15,
     "metadata": {},
     "output_type": "execute_result"
    }
   ],
   "source": [
    "#суммировать revenue за 2012 год по каждому актеру и выберу максимальное число.\n",
    "\n",
    "#найду фильмы, снятые в 2012 году\n",
    "df_2012 = data[data.release_year == 2012]\n",
    "\n",
    "data_cast = df_2012[:]\n",
    "\n",
    "#запишу в столбец жанров значение жанров с разделителем '|'\n",
    "data_cast['cast'] = df_2012['cast'].apply(lambda x:x.split('|'))\n",
    "\n",
    "#Преобразую каждый элемент списка в строку для каждого актёра\n",
    "data_cast = data_cast.explode('cast')\n",
    "\n",
    "#найду сумму в столбце revenue для каждого актёра, отсортирую по убыванию\n",
    "grouped_df = data_cast.groupby(['cast'])['revenue'].sum().sort_values(ascending=False)\n",
    "grouped_df.keys()[0]\n"
   ]
  },
  {
   "cell_type": "code",
   "execution_count": 17,
   "metadata": {},
   "outputs": [],
   "source": [
    "#sum[i] = data['revenue'][data['release_year']==2012][data['cast'].map(lambda x: True if i in x else False)].sum()\n",
    "#Дальше это прогнать в цикле по i по кол-ву фильмов 2012 года и актёрскому составу\n"
   ]
  },
  {
   "cell_type": "code",
   "execution_count": null,
   "metadata": {},
   "outputs": [],
   "source": [
    "#проба пера)\n",
    "\n",
    "#найду всех актёров в df_2012\n",
    "#unique_cast = np.unique(df_2012['cast'].str.cat(sep = '|').split('|'))"
   ]
  },
  {
   "cell_type": "markdown",
   "metadata": {
    "colab_type": "text",
    "id": "mWHyyL7QVp_j"
   },
   "source": [
    "# 16. Какой актер снялся в большем количестве высокобюджетных фильмов?"
   ]
  },
  {
   "cell_type": "code",
   "execution_count": null,
   "metadata": {},
   "outputs": [],
   "source": [
    "answers['16'] = 'Matt Damon'"
   ]
  },
  {
   "cell_type": "code",
   "execution_count": 10,
   "metadata": {
    "colab": {},
    "colab_type": "code",
    "id": "qQtmHKTFVp_k"
   },
   "outputs": [
    {
     "data": {
      "text/plain": [
       "'Matt Damon'"
      ]
     },
     "execution_count": 10,
     "metadata": {},
     "output_type": "execute_result"
    }
   ],
   "source": [
    "#найду фильмы с бюджетом выше среднего\n",
    "data_top = data[data.budget > data.budget.mean()]\n",
    "\n",
    "#присвою значение\n",
    "data_cast = data_top[:]\n",
    "\n",
    "#запишу в столбец cast  с разделителем '|'\n",
    "data_cast['cast'] = data_top['cast'].apply(lambda x:x.split('|'))\n",
    "\n",
    "#запишу серию из значений 'cast', найду, сколько раз повторяется каждый актёр, оставлю первый index\n",
    "pd.Series(data_cast['cast'].sum()).value_counts().index[0]"
   ]
  },
  {
   "cell_type": "markdown",
   "metadata": {
    "colab_type": "text",
    "id": "NIh6AaW5Vp_n"
   },
   "source": [
    "# 17. В фильмах какого жанра больше всего снимался Nicolas Cage? "
   ]
  },
  {
   "cell_type": "code",
   "execution_count": null,
   "metadata": {},
   "outputs": [],
   "source": [
    "answers['17'] = 'Action'"
   ]
  },
  {
   "cell_type": "code",
   "execution_count": 56,
   "metadata": {},
   "outputs": [
    {
     "data": {
      "text/plain": [
       "'Action'"
      ]
     },
     "execution_count": 56,
     "metadata": {},
     "output_type": "execute_result"
    }
   ],
   "source": [
    "data = pd.read_csv('movie_bd_v5.csv')\n",
    "\n",
    "#найду фильмы, в которых снимался Nicolas Cage\n",
    "data_cage = data[data.cast.str.contains('Nicolas Cage')]\n",
    "\n",
    "data_genres = data_cage[:]\n",
    "\n",
    "#запишу в столбец жанров значение жанров с разделителем '|'\n",
    "data_genres['genres'] = data_cage['genres'].apply(lambda x:x.split('|'))\n",
    "\n",
    "#Преобразую каждый элемент списка в строку для каждого жанра\n",
    "data_genres = data_genres.explode('genres')\n",
    "\n",
    "#посчитаю, сколько раз встречается каждый жанр\n",
    "answer = data_genres['genres'].value_counts().index[0]\n",
    "\n",
    "answer"
   ]
  },
  {
   "cell_type": "markdown",
   "metadata": {
    "colab_type": "text",
    "id": "RqOmPRfWVp_q"
   },
   "source": [
    "# 18. Самый убыточный фильм от Paramount Pictures"
   ]
  },
  {
   "cell_type": "code",
   "execution_count": null,
   "metadata": {},
   "outputs": [],
   "source": [
    "answers['18'] = '925. K-19: The Widowmaker (tt0267626)'"
   ]
  },
  {
   "cell_type": "code",
   "execution_count": 4,
   "metadata": {
    "colab": {},
    "colab_type": "code",
    "id": "9E_B0Y96Vp_r"
   },
   "outputs": [
    {
     "data": {
      "text/html": [
       "<div>\n",
       "<style scoped>\n",
       "    .dataframe tbody tr th:only-of-type {\n",
       "        vertical-align: middle;\n",
       "    }\n",
       "\n",
       "    .dataframe tbody tr th {\n",
       "        vertical-align: top;\n",
       "    }\n",
       "\n",
       "    .dataframe thead th {\n",
       "        text-align: right;\n",
       "    }\n",
       "</style>\n",
       "<table border=\"1\" class=\"dataframe\">\n",
       "  <thead>\n",
       "    <tr style=\"text-align: right;\">\n",
       "      <th></th>\n",
       "      <th>imdb_id</th>\n",
       "      <th>budget</th>\n",
       "      <th>revenue</th>\n",
       "      <th>original_title</th>\n",
       "      <th>cast</th>\n",
       "      <th>director</th>\n",
       "      <th>tagline</th>\n",
       "      <th>overview</th>\n",
       "      <th>runtime</th>\n",
       "      <th>genres</th>\n",
       "      <th>production_companies</th>\n",
       "      <th>release_date</th>\n",
       "      <th>vote_average</th>\n",
       "      <th>release_year</th>\n",
       "      <th>profit</th>\n",
       "    </tr>\n",
       "  </thead>\n",
       "  <tbody>\n",
       "    <tr>\n",
       "      <th>925</th>\n",
       "      <td>tt0267626</td>\n",
       "      <td>100000000</td>\n",
       "      <td>35168966</td>\n",
       "      <td>K-19: The Widowmaker</td>\n",
       "      <td>Harrison Ford|Liam Neeson|Peter Sarsgaard|Joss...</td>\n",
       "      <td>Kathryn Bigelow</td>\n",
       "      <td>Fate has found its hero.</td>\n",
       "      <td>When Russia's first nuclear submarine malfunct...</td>\n",
       "      <td>138</td>\n",
       "      <td>Thriller|Drama|History</td>\n",
       "      <td>Paramount Pictures|Intermedia Films|National G...</td>\n",
       "      <td>7/19/2002</td>\n",
       "      <td>6.0</td>\n",
       "      <td>2002</td>\n",
       "      <td>-64831034</td>\n",
       "    </tr>\n",
       "  </tbody>\n",
       "</table>\n",
       "</div>"
      ],
      "text/plain": [
       "       imdb_id     budget   revenue        original_title  \\\n",
       "925  tt0267626  100000000  35168966  K-19: The Widowmaker   \n",
       "\n",
       "                                                  cast         director  \\\n",
       "925  Harrison Ford|Liam Neeson|Peter Sarsgaard|Joss...  Kathryn Bigelow   \n",
       "\n",
       "                      tagline  \\\n",
       "925  Fate has found its hero.   \n",
       "\n",
       "                                              overview  runtime  \\\n",
       "925  When Russia's first nuclear submarine malfunct...      138   \n",
       "\n",
       "                     genres  \\\n",
       "925  Thriller|Drama|History   \n",
       "\n",
       "                                  production_companies release_date  \\\n",
       "925  Paramount Pictures|Intermedia Films|National G...    7/19/2002   \n",
       "\n",
       "     vote_average  release_year    profit  \n",
       "925           6.0          2002 -64831034  "
      ]
     },
     "execution_count": 4,
     "metadata": {},
     "output_type": "execute_result"
    }
   ],
   "source": [
    "#найду фильмы при участии Paramount\n",
    "Paramount = data[data.production_companies.str.contains('Paramount Pictures')]\n",
    "\n",
    "h = Paramount[Paramount.profit == Paramount.profit.min()]\n",
    "h"
   ]
  },
  {
   "cell_type": "markdown",
   "metadata": {
    "colab_type": "text",
    "id": "vS8Ur6ddVp_u"
   },
   "source": [
    "# 19. Какой год стал самым успешным по суммарным кассовым сборам?"
   ]
  },
  {
   "cell_type": "code",
   "execution_count": null,
   "metadata": {},
   "outputs": [],
   "source": [
    "answers['19'] = 2015"
   ]
  },
  {
   "cell_type": "code",
   "execution_count": 36,
   "metadata": {
    "colab": {},
    "colab_type": "code",
    "id": "Dnbt4GdIVp_v"
   },
   "outputs": [
    {
     "data": {
      "text/plain": [
       "2015"
      ]
     },
     "execution_count": 36,
     "metadata": {},
     "output_type": "execute_result"
    }
   ],
   "source": [
    "#сгруппирую значения сумм revenue для каждого года, отсортирую и выведу первое\n",
    "answer = data.groupby('release_year')['revenue'].apply(sum).sort_values(ascending=False).keys()[0]\n",
    "answer"
   ]
  },
  {
   "cell_type": "markdown",
   "metadata": {
    "colab_type": "text",
    "id": "JAzJh4QAVp_z"
   },
   "source": [
    "# 20. Какой самый прибыльный год для студии Warner Bros?"
   ]
  },
  {
   "cell_type": "code",
   "execution_count": null,
   "metadata": {},
   "outputs": [],
   "source": [
    "answers['20'] = 2014"
   ]
  },
  {
   "cell_type": "code",
   "execution_count": 39,
   "metadata": {
    "colab": {},
    "colab_type": "code",
    "id": "wgVu02DEVp_0"
   },
   "outputs": [
    {
     "data": {
      "text/plain": [
       "2014"
      ]
     },
     "execution_count": 39,
     "metadata": {},
     "output_type": "execute_result"
    }
   ],
   "source": [
    "#найду фильмы при участии Warner Bros\n",
    "Warner_Bros = data[data.production_companies.str.contains('Warner Bros')]\n",
    "\n",
    "#сгруппирую значения сумм revenue для каждого года, отсортирую и выведу первое\n",
    "answer = Warner_Bros.groupby('release_year')['revenue'].apply(sum).sort_values(ascending=False).keys()[0]\n",
    "\n",
    "answer"
   ]
  },
  {
   "cell_type": "markdown",
   "metadata": {
    "colab_type": "text",
    "id": "8Im1S2HRVp_4"
   },
   "source": [
    "# 21. В каком месяце за все годы суммарно вышло больше всего фильмов?"
   ]
  },
  {
   "cell_type": "code",
   "execution_count": null,
   "metadata": {},
   "outputs": [],
   "source": [
    "answers['21'] = 9"
   ]
  },
  {
   "cell_type": "code",
   "execution_count": 48,
   "metadata": {
    "colab": {},
    "colab_type": "code",
    "id": "lev6TH7gVp_4"
   },
   "outputs": [
    {
     "data": {
      "text/plain": [
       "'9'"
      ]
     },
     "execution_count": 48,
     "metadata": {},
     "output_type": "execute_result"
    }
   ],
   "source": [
    "data = pd.read_csv('movie_bd_v5.csv')\n",
    "data_1 = data[:]\n",
    "\n",
    "#запишу в столбец release_date с разделителем '/'\n",
    "data_1['release_date'] = data['release_date'].apply(lambda x:x.split('/'))\n",
    "\n",
    "#создать отдельный столбец, где будет находиться только число месяца\n",
    "data_1['release_month'] = data_1['release_date'].apply(lambda x:x[0])\n",
    "\n",
    "#посчитаю, сколько раз встречается каждый месяц\n",
    "answer = data_1['release_month'].value_counts().index[0]\n",
    "\n",
    "answer"
   ]
  },
  {
   "cell_type": "markdown",
   "metadata": {
    "colab_type": "text",
    "id": "uAJsZ_NeVp_7"
   },
   "source": [
    "# 22. Сколько суммарно вышло фильмов летом? (за июнь, июль, август)"
   ]
  },
  {
   "cell_type": "code",
   "execution_count": null,
   "metadata": {},
   "outputs": [],
   "source": [
    "answers['22'] = 450"
   ]
  },
  {
   "cell_type": "code",
   "execution_count": 4,
   "metadata": {
    "colab": {},
    "colab_type": "code",
    "id": "Aa-hEREoVp_8"
   },
   "outputs": [
    {
     "name": "stdout",
     "output_type": "stream",
     "text": [
      "450\n"
     ]
    }
   ],
   "source": [
    "data = pd.read_csv('movie_bd_v5.csv')\n",
    "data_1 = data[:]\n",
    "\n",
    "#запишу в столбец release_date с разделителем '/'\n",
    "data_1['release_date'] = data['release_date'].apply(lambda x:x.split('/'))\n",
    "\n",
    "#создать отдельный столбец, где будет находиться только число месяца\n",
    "data_1['release_month'] = data_1['release_date'].apply(lambda x:x[0])\n",
    "\n",
    "#посчитаю, сколько раз встречается каждый месяц\n",
    "answer = data_1['release_month'].value_counts()\n",
    "\n",
    "#найду сумму релизов для летних месяцев\n",
    "print(answer[\"6\"]+answer[\"7\"]+answer[\"8\"])"
   ]
  },
  {
   "cell_type": "markdown",
   "metadata": {
    "colab_type": "text",
    "id": "G94ppOY1VqAA"
   },
   "source": [
    "# 23. Для какого режиссера зима – самое продуктивное время года? "
   ]
  },
  {
   "cell_type": "code",
   "execution_count": null,
   "metadata": {},
   "outputs": [],
   "source": [
    "answers['23'] = 'Peter Jackson'"
   ]
  },
  {
   "cell_type": "code",
   "execution_count": 7,
   "metadata": {
    "colab": {},
    "colab_type": "code",
    "id": "RhNTsamuVqAB"
   },
   "outputs": [
    {
     "data": {
      "text/plain": [
       "[('Peter Jackson', 7)]"
      ]
     },
     "execution_count": 7,
     "metadata": {},
     "output_type": "execute_result"
    }
   ],
   "source": [
    "data = pd.read_csv('movie_bd_v5.csv')\n",
    "data_1 = data[:]\n",
    "\n",
    "#запишу в столбец release_date с разделителем '/'\n",
    "data_1['release_date'] = data['release_date'].apply(lambda x:x.split('/'))\n",
    "\n",
    "#создать отдельный столбец, где будет находиться только число месяца\n",
    "data_1['release_month'] = data_1['release_date'].apply(lambda x:x[0])\n",
    "\n",
    "#создам фрейм с осенними релизами\n",
    "df = data_1[(data_1.release_month == \"1\") | (data_1.release_month == \"2\") | (data_1.release_month == \"12\")]\n",
    "\n",
    "import collections\n",
    "#посчитаю сколько фильмов снял каждый реж из df. для этого\n",
    "#соединю все значения столбца режей в одну строку по разделетелю '|', разделю на список режиссеров по такому же разделителю\n",
    "c = collections.Counter(df['director'].str.cat(sep = '|').split('|')).most_common(1)\n",
    "c"
   ]
  },
  {
   "cell_type": "markdown",
   "metadata": {
    "colab_type": "text",
    "id": "RBo0JVjVVqAF"
   },
   "source": [
    "# 24. Какая студия дает самые длинные названия своим фильмам по количеству символов?"
   ]
  },
  {
   "cell_type": "code",
   "execution_count": null,
   "metadata": {},
   "outputs": [],
   "source": [
    "answers['24'] = 'Four By Two Productions'"
   ]
  },
  {
   "cell_type": "code",
   "execution_count": 33,
   "metadata": {
    "colab": {},
    "colab_type": "code",
    "id": "QRGS8L0iVqAG"
   },
   "outputs": [
    {
     "data": {
      "text/plain": [
       "production_companies\n",
       "Four By Two Productions    83.0\n",
       "Name: title_length, dtype: float64"
      ]
     },
     "execution_count": 33,
     "metadata": {},
     "output_type": "execute_result"
    }
   ],
   "source": [
    "#Нужно найти длину названия для каждого фильма\n",
    "#при ручном подсчёте заметил, что считает на еденицу больше, поэтому отнимаю единицу\n",
    "data = pd.read_csv('movie_bd_v5.csv')\n",
    "data['title_length'] = data['original_title'].str.count(\"\")-1\n",
    "\n",
    "#иногда фильм выпускают несколько студий. В этом случае длина названия такого фильма дает\n",
    "#вклад в среднюю длину для всех студий, участвовавших в выпуске фильма.\n",
    "data_pd = data[:]\n",
    "\n",
    "#запишу в столбец production_companies значение с разделителем '|'\n",
    "data_pd['production_companies'] = data['production_companies'].apply(lambda x:x.split('|'))\n",
    "\n",
    "#Преобразую каждый элемент списка в строку для каждой компании\n",
    "data_pd = data_pd.explode('production_companies')\n",
    "\n",
    "#найду среднюю длину названий фильмов для каждой студии\n",
    "data_pd.groupby(['production_companies'])['title_length'].mean().sort_values(ascending=False).head(1)"
   ]
  },
  {
   "cell_type": "markdown",
   "metadata": {
    "colab_type": "text",
    "id": "9G0hbvR7VqAK"
   },
   "source": [
    "# 25. Описание фильмов какой студии в среднем самые длинные по количеству слов?"
   ]
  },
  {
   "cell_type": "code",
   "execution_count": null,
   "metadata": {},
   "outputs": [],
   "source": [
    "answers['25'] = 'Midnight Picture Show'"
   ]
  },
  {
   "cell_type": "code",
   "execution_count": 36,
   "metadata": {
    "colab": {},
    "colab_type": "code",
    "id": "Ge2GsLNxVqAK"
   },
   "outputs": [
    {
     "data": {
      "text/plain": [
       "production_companies\n",
       "Midnight Picture Show    1001.0\n",
       "Name: overview_length, dtype: float64"
      ]
     },
     "execution_count": 36,
     "metadata": {},
     "output_type": "execute_result"
    }
   ],
   "source": [
    "#Нужно найти длину overview для каждого фильма\n",
    "data = pd.read_csv('movie_bd_v5.csv')\n",
    "data['overview_length'] = data['overview'].str.count(\"\")\n",
    "#data\n",
    "\n",
    "#иногда фильм выпускают несколько студий. В этом случае длина названия такого фильма дает\n",
    "#вклад в среднюю длину для всех студий, участвовавших в выпуске фильма.\n",
    "data_pd = data[:]\n",
    "\n",
    "#запишу в столбец production_companies значение с разделителем '|'\n",
    "data_pd['production_companies'] = data['production_companies'].apply(lambda x:x.split('|'))\n",
    "\n",
    "#Преобразую каждый элемент списка в строку для каждой компании\n",
    "data_pd = data_pd.explode('production_companies')\n",
    "\n",
    "#найду среднюю длину overview фильмов для каждой студии\n",
    "data_pd.groupby(['production_companies'])['overview_length'].mean().sort_values(ascending=False).head(1)"
   ]
  },
  {
   "cell_type": "markdown",
   "metadata": {
    "colab_type": "text",
    "id": "FJ1AFt90VqAP"
   },
   "source": [
    "# 26. Какие фильмы входят в 1 процент лучших по рейтингу? \n",
    "по vote_average"
   ]
  },
  {
   "cell_type": "code",
   "execution_count": null,
   "metadata": {},
   "outputs": [],
   "source": [
    "answers['26'] = 'Inside Out, The Dark Knight, 12 Years a Slave '"
   ]
  },
  {
   "cell_type": "code",
   "execution_count": 61,
   "metadata": {
    "colab": {},
    "colab_type": "code",
    "id": "8qmJVq4CVqAQ"
   },
   "outputs": [
    {
     "data": {
      "text/plain": [
       "9                                          Inside Out\n",
       "34                                               Room\n",
       "118                                      Interstellar\n",
       "119                           Guardians of the Galaxy\n",
       "125                                The Imitation Game\n",
       "128                                         Gone Girl\n",
       "138                          The Grand Budapest Hotel\n",
       "370                                         Inception\n",
       "599                                   The Dark Knight\n",
       "872                                       The Pianist\n",
       "1081    The Lord of the Rings: The Return of the King\n",
       "1183                          The Wolf of Wall Street\n",
       "1191                                 12 Years a Slave\n",
       "1800                                          Memento\n",
       "Name: original_title, dtype: object"
      ]
     },
     "metadata": {},
     "output_type": "display_data"
    }
   ],
   "source": [
    "data = pd.read_csv('movie_bd_v5.csv')\n",
    "\n",
    "data.vote_average.value_counts(normalize=True).sort_index(ascending = False).head(3)\n",
    "\n",
    "display(data[(data.vote_average == 8.1) | (data.vote_average == 8.0) | (data.vote_average == 7.9)].original_title)"
   ]
  },
  {
   "cell_type": "markdown",
   "metadata": {
    "colab_type": "text",
    "id": "MdXsUXbCVqAV"
   },
   "source": [
    "# 27. Какие актеры чаще всего снимаются в одном фильме вместе?\n"
   ]
  },
  {
   "cell_type": "markdown",
   "metadata": {
    "colab_type": "text",
    "id": "4ymnxEVoVqAW"
   },
   "source": [
    "ВАРИАНТ 2"
   ]
  },
  {
   "cell_type": "code",
   "execution_count": null,
   "metadata": {},
   "outputs": [],
   "source": [
    "answers['27'] = ''"
   ]
  },
  {
   "cell_type": "code",
   "execution_count": null,
   "metadata": {},
   "outputs": [],
   "source": []
  },
  {
   "cell_type": "markdown",
   "metadata": {
    "colab_type": "text",
    "id": "U0nONFnGVqAX"
   },
   "source": [
    "# Submission"
   ]
  },
  {
   "cell_type": "code",
   "execution_count": 0,
   "metadata": {
    "colab": {},
    "colab_type": "code",
    "id": "IfcaRO9-VqAX",
    "outputId": "0f132912-32bb-4196-c98c-abfbc4ad5a5f"
   },
   "outputs": [
    {
     "data": {
      "text/plain": [
       "{'1': '...', '2': '...'}"
      ]
     },
     "execution_count": 8,
     "metadata": {
      "tags": []
     },
     "output_type": "execute_result"
    }
   ],
   "source": [
    "# в конце можно посмотреть свои ответы к каждому вопросу\n",
    "answers"
   ]
  },
  {
   "cell_type": "code",
   "execution_count": 0,
   "metadata": {
    "colab": {},
    "colab_type": "code",
    "id": "SiRmHPl8VqAd"
   },
   "outputs": [],
   "source": [
    "# и убедиться что ни чего не пропустил)\n",
    "len(answers)"
   ]
  },
  {
   "cell_type": "code",
   "execution_count": 0,
   "metadata": {
    "colab": {},
    "colab_type": "code",
    "id": "uCfuTkRbVqAg"
   },
   "outputs": [],
   "source": []
  },
  {
   "cell_type": "code",
   "execution_count": 0,
   "metadata": {
    "colab": {},
    "colab_type": "code",
    "id": "Vwx3NrkSVqAl"
   },
   "outputs": [],
   "source": []
  }
 ],
 "metadata": {
  "colab": {
   "name": "Copy of [SF-DST] Movies IMBD v4.1 TEMPLATE.ipynb",
   "provenance": []
  },
  "kernelspec": {
   "display_name": "Python 3",
   "language": "python",
   "name": "python3"
  },
  "language_info": {
   "codemirror_mode": {
    "name": "ipython",
    "version": 3
   },
   "file_extension": ".py",
   "mimetype": "text/x-python",
   "name": "python",
   "nbconvert_exporter": "python",
   "pygments_lexer": "ipython3",
   "version": "3.8.3"
  }
 },
 "nbformat": 4,
 "nbformat_minor": 1
}
